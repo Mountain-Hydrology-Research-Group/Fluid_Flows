{
 "cells": [
  {
   "cell_type": "markdown",
   "id": "9f78ea80-5b4e-41fc-8e36-ad042e7eaae4",
   "metadata": {},
   "source": [
    "$$ U_{AVG} = \\frac{1}{H}\\int_H^0 u(z)dz $$"
   ]
  },
  {
   "cell_type": "markdown",
   "id": "698d8bbe-053c-4189-a8b8-1dca3e9f33c9",
   "metadata": {},
   "source": [
    "*  Find the average rate of CO emissions during this two-hour period ($g CO/s$ per $m^2$ of land)."
   ]
  },
  {
   "cell_type": "code",
   "execution_count": null,
   "id": "5356a1d2-0a74-49ce-b449-73fd3ebbfb1c",
   "metadata": {},
   "outputs": [],
   "source": []
  }
 ],
 "metadata": {
  "kernelspec": {
   "display_name": "Python 3 (ipykernel)",
   "language": "python",
   "name": "python3"
  },
  "language_info": {
   "codemirror_mode": {
    "name": "ipython",
    "version": 3
   },
   "file_extension": ".py",
   "mimetype": "text/x-python",
   "name": "python",
   "nbconvert_exporter": "python",
   "pygments_lexer": "ipython3",
   "version": "3.9.7"
  }
 },
 "nbformat": 4,
 "nbformat_minor": 5
}
