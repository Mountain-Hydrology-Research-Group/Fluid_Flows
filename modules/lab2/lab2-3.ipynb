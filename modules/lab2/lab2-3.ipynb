{
 "cells": [
  {
   "cell_type": "markdown",
   "metadata": {},
   "source": [
    "# Lab 2.3: More Hypothesis Testing\n",
    "## Type II Error and Power\n",
    "\n",
    "What is the type II error and power for your test on the mean from Lab 2.2, assuming that both the true means have increased by 30% and the pooled standard deviation has increased by a factor of 1.1?\n",
    "\n",
    "That is, assume that the true mean is 1.3 times the early mean, and that the true pooled standard deviation is 1.1 times sigma prime (our test estimate of pooled estimator for the two observed data sets)."
   ]
  },
  {
   "cell_type": "code",
   "execution_count": 1,
   "metadata": {},
   "outputs": [],
   "source": [
    "# Import modules\n",
    "\n",
    "import pandas as pd\n",
    "import matplotlib.pyplot as plt\n",
    "import math\n",
    "import scipy.stats as st\n",
    "import statistics as stats\n",
    "import numpy as np\n",
    "from scipy.interpolate import interp1d\n",
    "\n",
    "%matplotlib inline"
   ]
  },
  {
   "cell_type": "code",
   "execution_count": 2,
   "metadata": {},
   "outputs": [
    {
     "data": {
      "text/html": [
       "<div>\n",
       "<style scoped>\n",
       "    .dataframe tbody tr th:only-of-type {\n",
       "        vertical-align: middle;\n",
       "    }\n",
       "\n",
       "    .dataframe tbody tr th {\n",
       "        vertical-align: top;\n",
       "    }\n",
       "\n",
       "    .dataframe thead th {\n",
       "        text-align: right;\n",
       "    }\n",
       "</style>\n",
       "<table border=\"1\" class=\"dataframe\">\n",
       "  <thead>\n",
       "    <tr style=\"text-align: right;\">\n",
       "      <th></th>\n",
       "      <th>date of peak</th>\n",
       "      <th>water year</th>\n",
       "      <th>peak value (cfs)</th>\n",
       "      <th>gage_ht (feet)</th>\n",
       "    </tr>\n",
       "  </thead>\n",
       "  <tbody>\n",
       "    <tr>\n",
       "      <td>0</td>\n",
       "      <td>1928-10-09</td>\n",
       "      <td>1929</td>\n",
       "      <td>18800</td>\n",
       "      <td>10.55</td>\n",
       "    </tr>\n",
       "    <tr>\n",
       "      <td>1</td>\n",
       "      <td>1930-02-05</td>\n",
       "      <td>1930</td>\n",
       "      <td>15800</td>\n",
       "      <td>10.44</td>\n",
       "    </tr>\n",
       "    <tr>\n",
       "      <td>2</td>\n",
       "      <td>1931-01-28</td>\n",
       "      <td>1931</td>\n",
       "      <td>35100</td>\n",
       "      <td>14.08</td>\n",
       "    </tr>\n",
       "    <tr>\n",
       "      <td>3</td>\n",
       "      <td>1932-02-26</td>\n",
       "      <td>1932</td>\n",
       "      <td>83300</td>\n",
       "      <td>20.70</td>\n",
       "    </tr>\n",
       "    <tr>\n",
       "      <td>4</td>\n",
       "      <td>1932-11-13</td>\n",
       "      <td>1933</td>\n",
       "      <td>72500</td>\n",
       "      <td>19.50</td>\n",
       "    </tr>\n",
       "    <tr>\n",
       "      <td>...</td>\n",
       "      <td>...</td>\n",
       "      <td>...</td>\n",
       "      <td>...</td>\n",
       "      <td>...</td>\n",
       "    </tr>\n",
       "    <tr>\n",
       "      <td>76</td>\n",
       "      <td>2005-01-18</td>\n",
       "      <td>2005</td>\n",
       "      <td>74600</td>\n",
       "      <td>19.55</td>\n",
       "    </tr>\n",
       "    <tr>\n",
       "      <td>77</td>\n",
       "      <td>2005-12-24</td>\n",
       "      <td>2006</td>\n",
       "      <td>33800</td>\n",
       "      <td>14.27</td>\n",
       "    </tr>\n",
       "    <tr>\n",
       "      <td>78</td>\n",
       "      <td>2006-11-06</td>\n",
       "      <td>2007</td>\n",
       "      <td>129000</td>\n",
       "      <td>24.51</td>\n",
       "    </tr>\n",
       "    <tr>\n",
       "      <td>79</td>\n",
       "      <td>2007-12-03</td>\n",
       "      <td>2008</td>\n",
       "      <td>51100</td>\n",
       "      <td>16.79</td>\n",
       "    </tr>\n",
       "    <tr>\n",
       "      <td>80</td>\n",
       "      <td>2009-01-08</td>\n",
       "      <td>2009</td>\n",
       "      <td>74000</td>\n",
       "      <td>19.48</td>\n",
       "    </tr>\n",
       "  </tbody>\n",
       "</table>\n",
       "<p>81 rows × 4 columns</p>\n",
       "</div>"
      ],
      "text/plain": [
       "   date of peak  water year  peak value (cfs)  gage_ht (feet)\n",
       "0    1928-10-09        1929             18800           10.55\n",
       "1    1930-02-05        1930             15800           10.44\n",
       "2    1931-01-28        1931             35100           14.08\n",
       "3    1932-02-26        1932             83300           20.70\n",
       "4    1932-11-13        1933             72500           19.50\n",
       "..          ...         ...               ...             ...\n",
       "76   2005-01-18        2005             74600           19.55\n",
       "77   2005-12-24        2006             33800           14.27\n",
       "78   2006-11-06        2007            129000           24.51\n",
       "79   2007-12-03        2008             51100           16.79\n",
       "80   2009-01-08        2009             74000           19.48\n",
       "\n",
       "[81 rows x 4 columns]"
      ]
     },
     "execution_count": 2,
     "metadata": {},
     "output_type": "execute_result"
    }
   ],
   "source": [
    "# Read the excel file\n",
    "Skykomish_data_file = 'Skykomish_peak_flow_12134500_skykomish_river_near_gold_bar.xlsx'\n",
    "Skykomish_data = pd.read_excel(Skykomish_data_file)\n",
    "\n",
    "# Preview our data\n",
    "Skykomish_data"
   ]
  },
  {
   "cell_type": "code",
   "execution_count": 3,
   "metadata": {},
   "outputs": [],
   "source": [
    "# Divide the data into the early period (before and including 1975) and late period (after 1975). \n",
    "# And select only the 'peak value (cfs)' column for each time period\n",
    "\n",
    "early = Skykomish_data['peak value (cfs)'][ Skykomish_data['water year'] <= 1975 ] \n",
    "late = Skykomish_data['peak value (cfs)'][ Skykomish_data['water year'] > 1975 ] "
   ]
  },
  {
   "cell_type": "markdown",
   "metadata": {},
   "source": [
    "### Calculate Type II error and power\n",
    "Recall from the class lectures that the type II error ${ \\beta = P((\\overline{X}-\\overline{Y}) < \\Delta_0 + z_{\\alpha}\\sigma')}$\n",
    "where $\\sigma'$ is the pooled standard deviation from $\\overline{X}$ (the later period) and $\\overline{Y}$ (the earlier period).\n",
    "If we postulate, as mentioned in the intro, that the true distribution of ${(\\overline{X}-\\overline{Y}) = \\Delta^* = 0.3*\\mu_{early},}$ with a true standard deviation ${\\sigma^*}$ of ${1.1*\\sigma'}$ , then we need to solve for the intersection of \n",
    "${ \\Delta^* + z_{eff}\\sigma^* = \\Delta_0 + z_{\\alpha}\\sigma'}$"
   ]
  },
  {
   "cell_type": "code",
   "execution_count": 4,
   "metadata": {},
   "outputs": [
    {
     "name": "stdout",
     "output_type": "stream",
     "text": [
      "Our type II error is\n",
      "0.2616311246487522\n"
     ]
    }
   ],
   "source": [
    "n = len(early)\n",
    "m = len(late)\n",
    "\n",
    "conf = .95\n",
    "# Note the above corresponds to alpha of 0.05, which would make z_alpha = z_0.05 \n",
    "# in the above equations\n",
    "\n",
    "z_alpha = st.norm.ppf(conf)\n",
    "\n",
    "mean1 = stats.mean(early)\n",
    "mean2 = stats.mean(late)\n",
    "\n",
    "sd1 = stats.stdev(early)\n",
    "sd2 = stats.stdev(late)\n",
    "\n",
    "pooled_sd = math.sqrt(sd1**2/n + sd2**2/m)\n",
    "\n",
    "delta_star = .3 * mean1\n",
    "\n",
    "sigma_star = 1.1 * pooled_sd\n",
    "\n",
    "# Rearranging the equation in the markdown box above and \n",
    "# noting that delta_0 = 0 in the null hypothesis we are considering here,\n",
    "z_eff = (z_alpha*pooled_sd - delta_star) / sigma_star\n",
    "\n",
    "# we look up the cdf value of the postulated true distribution at this point\n",
    "print(\"Our type II error is\")\n",
    "beta = st.norm.cdf(z_eff)\n",
    "print(beta)\n",
    "\n",
    "# Thus, our confidence that we are not commiting Type II error is\n",
    "power = 1 - beta"
   ]
  },
  {
   "cell_type": "code",
   "execution_count": 5,
   "metadata": {},
   "outputs": [
    {
     "data": {
      "text/plain": [
       "<matplotlib.legend.Legend at 0x1febd8aa438>"
      ]
     },
     "execution_count": 5,
     "metadata": {},
     "output_type": "execute_result"
    },
    {
     "data": {
      "image/png": "[encoded data removed]",
      "text/plain": [
       "<Figure size 432x288 with 1 Axes>"
      ]
     },
     "metadata": {
      "needs_background": "light"
     },
     "output_type": "display_data"
    }
   ],
   "source": [
    "# Make a plot\n",
    "\n",
    "plt.figure(1)\n",
    "delta_0 = 0\n",
    "\n",
    "x = np.linspace(-4, 4, num=160)\n",
    "x = [i * pooled_sd for i in x]\n",
    "    \n",
    "plt.plot(x, st.norm.pdf(x, delta_0, pooled_sd), label='Null PDF: ($\\overline{x}$ - $\\overline{y}$) = 0')\n",
    "plt.plot(x, st.norm.pdf(x, delta_star, sigma_star), color='red', label=r'True PDF: ($\\overline{x}$ - $\\overline{y}$) = $\\Delta^*$')\n",
    "plt.axvline(z_alpha*pooled_sd, color='black', label=r'Z$_\\alpha$')\n",
    "plt.title('1C - Type II Error')\n",
    "plt.xlabel('($\\overline{x}$ - $\\overline{y}$) [cfs]')\n",
    "plt.ylabel('PDF')\n",
    "plt.ylim(0, 9e-5)\n",
    "plt.ticklabel_format(axis='x', style='sci', scilimits=(0,0))\n",
    "plt.text(-20000, 8e-5, r'Z$_{eff}$ = ' + str(round(z_eff,2)))\n",
    "plt.text(-20000, 7e-5, 'beta = ' + str(round(beta,2)))\n",
    "plt.legend(loc='lower left')"
   ]
  },
  {
   "cell_type": "markdown",
   "metadata": {},
   "source": [
    "## Wilcoxan Rank Sum Test\n",
    "Test the significance of the change in the mean between the two sample periods using the two-sample Wilcoxan Rank Sum test. How different is your conclusion from the one we just did (i.e. compare P for the two tests)? Only consider the case where the null hypothesis is no change."
   ]
  },
  {
   "cell_type": "code",
   "execution_count": 6,
   "metadata": {},
   "outputs": [],
   "source": [
    "# First, what functions are already available in python to do this?\n",
    "st.ranksums?"
   ]
  },
  {
   "cell_type": "code",
   "execution_count": 7,
   "metadata": {},
   "outputs": [
    {
     "name": "stdout",
     "output_type": "stream",
     "text": [
      "2.7560544731078984 2.5210461480556376 0.005850325292418017\n"
     ]
    }
   ],
   "source": [
    "# Use scipy.stats.wilcoxon()\n",
    "# Note that the comments for the ranksums function state that is is only good with a continuous \n",
    "# distribution and does not handle ties between measurements in x and y.\n",
    "# Scroll up to check that our dataset does not have ties (i.e., any measurements that are \n",
    "# exactly alike).  I don't see any, so I think we are okay.\n",
    "\n",
    "w, p_w = st.ranksums(late, early)\n",
    "# this returns w, the test statistic z presuming this is a large enough sample that this is \n",
    "# normally distributed, and p_w, the two-side p-value of the test\n",
    "# Note that we are doing a one-sided test, so how should we interpret the two-sided p-value?\n",
    "\n",
    "z_w = st.norm.ppf(1-p_w)\n",
    "print(w,z_w,p_w)"
   ]
  },
  {
   "cell_type": "code",
   "execution_count": 8,
   "metadata": {},
   "outputs": [
    {
     "name": "stdout",
     "output_type": "stream",
     "text": [
      "0.002925162646209012\n",
      "0.005850325292418024\n"
     ]
    }
   ],
   "source": [
    "# Note that when I print the values above, the z statistic the function gives me, \n",
    "# and the z statistic I calculated looking up the p-value are not the same.  \n",
    "# How do I know which to use?\n",
    "one_sided_p = 1 - st.norm.cdf(w)\n",
    "print(one_sided_p)\n",
    "print(2*one_sided_p)"
   ]
  },
  {
   "cell_type": "markdown",
   "metadata": {},
   "source": [
    "##### Based on the above, do you understand what the two outputs of the function are showing, and do you now understand which we should use in this case?  If not, ask questions."
   ]
  },
  {
   "cell_type": "code",
   "execution_count": 9,
   "metadata": {},
   "outputs": [
    {
     "data": {
      "text/plain": [
       "<matplotlib.legend.Legend at 0x1febd9c9320>"
      ]
     },
     "execution_count": 9,
     "metadata": {},
     "output_type": "execute_result"
    },
    {
     "data": {
      "image/png": "[encoded data removed]",
      "text/plain": [
       "<Figure size 432x288 with 1 Axes>"
      ]
     },
     "metadata": {
      "needs_background": "light"
     },
     "output_type": "display_data"
    }
   ],
   "source": [
    "# Plot\n",
    "\n",
    "plt.figure(1)\n",
    "\n",
    "mean_w = np.linspace(-4, 4, num=160)\n",
    "\n",
    "plt.plot(mean_w, st.norm.pdf(mean_w), label='Null PDF: ($\\overline{x}$ - $\\overline{y}$)')\n",
    "plt.axvline(z_alpha, color='black', label=r'Z$_\\alpha$')\n",
    "plt.axvline(w, color='red', label=r'Z$_{wilcoxan}$')\n",
    "plt.title('1D - Wilcoxan Rank Sum Test')\n",
    "plt.xlabel('Z')\n",
    "plt.ylabel('PDF')\n",
    "plt.ylim(0, max(st.norm.pdf(mean_w)))\n",
    "plt.legend(loc='best')"
   ]
  },
  {
   "cell_type": "markdown",
   "metadata": {},
   "source": [
    "## Change in the Standard Deviation\n",
    "Test for statistical significance of a change in the standard deviation.\n",
    "Note that the standard deviation does not benefit from the Central Limit Theorem.\n",
    "Even though it is not strictly true, assume for the moment that the\n",
    "sample data are derived from a normally distributed population.  Use a\n",
    "single sample test (with rejection region based on the Chi Squared\n",
    "distribution). Assume that the sample standard deviation from the\n",
    "1929-1974 data is close to the true population standard deviation of the\n",
    "earlier data set. Test that the more recent sample is different from this.\n",
    "\n",
    "Use ${t} = \\frac{(n-1)s^2}{\\sigma^2}$ with n-1 degrees of freedom."
   ]
  },
  {
   "cell_type": "code",
   "execution_count": 10,
   "metadata": {},
   "outputs": [
    {
     "name": "stdout",
     "output_type": "stream",
     "text": [
      "54.98281571318139\n"
     ]
    }
   ],
   "source": [
    "# first calculate the test statistic\n",
    "sd1 = stats.stdev(early) #we pretend this is the \"true population standard deviation)\n",
    "sd2 = stats.stdev(late)\n",
    "m = len(late)\n",
    "t = (m-1)*sd2**2/sd1**2\n",
    "print(t)"
   ]
  },
  {
   "cell_type": "code",
   "execution_count": 11,
   "metadata": {},
   "outputs": [],
   "source": [
    "# Now, we know from the lecture notes that this test statistic is a chi-squared distributed\n",
    "# with n-1 degrees of freedom.  We assume we want 95% confidence that there is a change \n",
    "# and therefore alpha = 0.05.  Also note that this just a test for a change (there's no one-sided\n",
    "# or two-sided questions to worry about here)\n",
    "# How do we look this up in python?\n",
    "st.chi2.ppf?"
   ]
  },
  {
   "cell_type": "code",
   "execution_count": 12,
   "metadata": {},
   "outputs": [
    {
     "name": "stdout",
     "output_type": "stream",
     "text": [
      "20.86653399071479\n"
     ]
    }
   ],
   "source": [
    "alpha = 0.05\n",
    "vals = st.chi2.ppf(alpha, m-1)\n",
    "print(vals)"
   ]
  },
  {
   "cell_type": "markdown",
   "metadata": {},
   "source": [
    "### Our t statistic is larger than the cut-off value from the chi-squared distribution, so we determine that yes, with 95% confidence, a change has occurred."
   ]
  },
  {
   "cell_type": "code",
   "execution_count": null,
   "metadata": {},
   "outputs": [],
   "source": []
  }
 ],
 "metadata": {
  "kernelspec": {
   "display_name": "Python 3",
   "language": "python",
   "name": "python3"
  },
  "language_info": {
   "codemirror_mode": {
    "name": "ipython",
    "version": 3
   },
   "file_extension": ".py",
   "mimetype": "text/x-python",
   "name": "python",
   "nbconvert_exporter": "python",
   "pygments_lexer": "ipython3",
   "version": "3.6.7"
  }
 },
 "nbformat": 4,
 "nbformat_minor": 2
}
