{
 "cells": [
  {
   "cell_type": "markdown",
   "metadata": {},
   "source": [
    "# Lab 7-1: Rating Curves\n",
    "\n",
    "This is an exerpt from a lab from CEE 465: Data Analysis, which goes deeper into the statistics of rating curve calculations\n",
    "(Put together by Steven Pestana, 2019 and Jessica Lundquist, years before 2019)"
   ]
  },
  {
   "cell_type": "code",
   "execution_count": 1,
   "metadata": {},
   "outputs": [],
   "source": [
    "import numpy as np\n",
    "import pandas as pd\n",
    "import scipy.stats as st\n",
    "import matplotlib.pyplot as plt\n",
    "import scipy.io as sio \n",
    "\n",
    "%matplotlib inline"
   ]
  },
  {
   "cell_type": "markdown",
   "metadata": {},
   "source": [
    "---\n",
    "#### Load in the provided data:\n",
    "We're provided data in a .mat format (MATLAB's data file format). The ```scipy.io``` library has a function that allows us to read these types of files. Take a look at its documentation:"
   ]
  },
  {
   "cell_type": "code",
   "execution_count": 2,
   "metadata": {},
   "outputs": [],
   "source": [
    "sio.loadmat?"
   ]
  },
  {
   "cell_type": "markdown",
   "metadata": {},
   "source": [
    "Now load the Lyell canyon streamflow data:"
   ]
  },
  {
   "cell_type": "code",
   "execution_count": 2,
   "metadata": {},
   "outputs": [],
   "source": [
    "data = sio.loadmat('../data/Lyell_h_Q_sorted.mat')\n",
    "# Note, if you have copied the .mat file into your current directory, comment out the line above and use the one below instead\n",
    "# data = sio.loadmat('Lyell_h_Q_sorted.mat') "
   ]
  },
  {
   "cell_type": "markdown",
   "metadata": {},
   "source": [
    "What kind of data structure is our data in?"
   ]
  },
  {
   "cell_type": "code",
   "execution_count": 3,
   "metadata": {},
   "outputs": [
    {
     "data": {
      "text/plain": [
       "dict"
      ]
     },
     "execution_count": 3,
     "metadata": {},
     "output_type": "execute_result"
    }
   ],
   "source": [
    "type(data)"
   ]
  },
  {
   "cell_type": "markdown",
   "metadata": {},
   "source": [
    "This is a dictionary. [Read more about python dictionaries here](https://docs.python.org/3.8/tutorial/datastructures.html#dictionaries)."
   ]
  },
  {
   "cell_type": "code",
   "execution_count": 4,
   "metadata": {
    "collapsed": true,
    "jupyter": {
     "outputs_hidden": true
    },
    "tags": []
   },
   "outputs": [
    {
     "data": {
      "text/plain": [
       "{'__header__': b'MATLAB 5.0 MAT-file, Platform: MACI64, Created on: Tue Nov  3 14:17:54 2015',\n",
       " '__version__': '1.0',\n",
       " '__globals__': [],\n",
       " 'h1': array([[0.1805],\n",
       "        [0.2197],\n",
       "        [0.2406],\n",
       "        [0.2407],\n",
       "        [0.2565],\n",
       "        [0.2822],\n",
       "        [0.285 ],\n",
       "        [0.2904],\n",
       "        [0.2907],\n",
       "        [0.2907],\n",
       "        [0.2925],\n",
       "        [0.3066],\n",
       "        [0.3185],\n",
       "        [0.3227],\n",
       "        [0.3405],\n",
       "        [0.3492],\n",
       "        [0.3648],\n",
       "        [0.3668],\n",
       "        [0.3757],\n",
       "        [0.3781],\n",
       "        [0.3814],\n",
       "        [0.383 ],\n",
       "        [0.3913],\n",
       "        [0.3913],\n",
       "        [0.4006],\n",
       "        [0.408 ],\n",
       "        [0.4319],\n",
       "        [0.4957],\n",
       "        [0.4982],\n",
       "        [0.5227],\n",
       "        [0.5325],\n",
       "        [0.5391],\n",
       "        [0.5427],\n",
       "        [0.5638],\n",
       "        [0.571 ],\n",
       "        [0.573 ],\n",
       "        [0.6096],\n",
       "        [0.6144],\n",
       "        [0.6358],\n",
       "        [0.6372],\n",
       "        [0.6437],\n",
       "        [0.644 ],\n",
       "        [0.673 ],\n",
       "        [0.6753],\n",
       "        [0.6757],\n",
       "        [0.6825],\n",
       "        [0.6873],\n",
       "        [0.696 ],\n",
       "        [0.696 ],\n",
       "        [0.7061],\n",
       "        [0.712 ],\n",
       "        [0.724 ],\n",
       "        [0.7369],\n",
       "        [0.7443],\n",
       "        [0.745 ],\n",
       "        [0.7657],\n",
       "        [0.784 ],\n",
       "        [0.7868],\n",
       "        [0.8142],\n",
       "        [0.8214],\n",
       "        [0.836 ],\n",
       "        [0.8497],\n",
       "        [0.8515],\n",
       "        [0.9354],\n",
       "        [0.9485],\n",
       "        [0.9491],\n",
       "        [0.9503],\n",
       "        [0.967 ],\n",
       "        [0.9681],\n",
       "        [0.9752],\n",
       "        [0.9849],\n",
       "        [0.989 ],\n",
       "        [0.994 ],\n",
       "        [1.0806],\n",
       "        [1.1074],\n",
       "        [1.109 ],\n",
       "        [1.109 ],\n",
       "        [1.1134],\n",
       "        [1.1281]]),\n",
       " 'Qobs1': array([[ 0.07785993],\n",
       "        [ 0.07191426],\n",
       "        [ 0.14382852],\n",
       "        [ 0.16817745],\n",
       "        [ 0.24348923],\n",
       "        [ 0.39043215],\n",
       "        [ 0.24745301],\n",
       "        [ 0.60957246],\n",
       "        [ 0.25481431],\n",
       "        [ 0.89864514],\n",
       "        [ 0.30351216],\n",
       "        [ 0.9946252 ],\n",
       "        [ 0.42780492],\n",
       "        [ 0.4360156 ],\n",
       "        [ 0.48131592],\n",
       "        [ 0.65911969],\n",
       "        [ 0.84938104],\n",
       "        [ 1.33494387],\n",
       "        [ 0.93431915],\n",
       "        [ 0.70498626],\n",
       "        [ 0.92242781],\n",
       "        [ 0.86268801],\n",
       "        [ 1.10900851],\n",
       "        [ 1.10900851],\n",
       "        [ 1.07078637],\n",
       "        [ 1.03624487],\n",
       "        [ 1.27831847],\n",
       "        [ 1.83381367],\n",
       "        [ 2.33891226],\n",
       "        [ 2.46971694],\n",
       "        [ 2.52973987],\n",
       "        [ 2.62515367],\n",
       "        [ 1.44281526],\n",
       "        [ 1.46404979],\n",
       "        [ 3.37544026],\n",
       "        [ 3.04219977],\n",
       "        [ 4.94509643],\n",
       "        [ 4.69990843],\n",
       "        [ 4.39214937],\n",
       "        [ 4.94509643],\n",
       "        [ 5.63422758],\n",
       "        [ 4.69990843],\n",
       "        [ 5.69878054],\n",
       "        [ 5.80778444],\n",
       "        [ 5.36214252],\n",
       "        [ 5.62516752],\n",
       "        [ 6.07647198],\n",
       "        [ 7.16311346],\n",
       "        [ 7.41792777],\n",
       "        [ 6.2800403 ],\n",
       "        [ 6.69765265],\n",
       "        [ 6.72568222],\n",
       "        [ 7.38621754],\n",
       "        [ 7.01022487],\n",
       "        [ 7.62432736],\n",
       "        [ 8.47229277],\n",
       "        [ 9.11668985],\n",
       "        [ 8.89613391],\n",
       "        [ 9.73985241],\n",
       "        [10.35338865],\n",
       "        [10.05015962],\n",
       "        [10.87236047],\n",
       "        [11.07026625],\n",
       "        [15.00573175],\n",
       "        [15.68523658],\n",
       "        [15.00573175],\n",
       "        [15.82680009],\n",
       "        [15.82680009],\n",
       "        [15.82680009],\n",
       "        [16.84605734],\n",
       "        [15.74186198],\n",
       "        [17.17165341],\n",
       "        [16.84605734],\n",
       "        [20.80983554],\n",
       "        [20.80983554],\n",
       "        [21.65921658],\n",
       "        [21.74415468],\n",
       "        [21.74415468],\n",
       "        [21.57427847]]),\n",
       " 'date_of_obs': array([[array(['9/26/08 16:30'], dtype='<U13')],\n",
       "        [array(['9/19/08 0:02'], dtype='<U12')],\n",
       "        [array(['9/10/08 21:35'], dtype='<U13')],\n",
       "        [array(['9/10/10 17:52'], dtype='<U13')],\n",
       "        [array(['8/20/07 18:22'], dtype='<U13')],\n",
       "        [array(['9/12/06 19:10'], dtype='<U13')],\n",
       "        [array(['8/13/07 18:10'], dtype='<U13')],\n",
       "        [array(['9/13/12 21:15'], dtype='<U13')],\n",
       "        [array(['9/5/12 18:57'], dtype='<U12')],\n",
       "        [array(['9/5/12 18:25'], dtype='<U12')],\n",
       "        [array(['9/6/07 21:50'], dtype='<U12')],\n",
       "        [array(['3/25/14 17:43'], dtype='<U13')],\n",
       "        [array(['9/5/07 21:11'], dtype='<U12')],\n",
       "        [array(['8/22/07 23:03'], dtype='<U13')],\n",
       "        [array(['8/2/07 22:05'], dtype='<U12')],\n",
       "        [array(['8/4/08 22:44'], dtype='<U12')],\n",
       "        [array(['7/30/07 22:05'], dtype='<U13')],\n",
       "        [array(['8/24/06 23:40'], dtype='<U13')],\n",
       "        [array(['7/16/07 20:25'], dtype='<U13')],\n",
       "        [array(['7/29/13 22:00'], dtype='<U13')],\n",
       "        [array(['7/28/08 19:07'], dtype='<U13')],\n",
       "        [array(['8/10/10 18:50'], dtype='<U13')],\n",
       "        [array(['6/25/07 23:00'], dtype='<U13')],\n",
       "        [array(['6/25/07 23:00'], dtype='<U13')],\n",
       "        [array(['7/25/08 20:10'], dtype='<U13')],\n",
       "        [array(['8/4/09 15:45'], dtype='<U12')],\n",
       "        [array(['8/4/10 18:44'], dtype='<U12')],\n",
       "        [array(['6/16/14 18:29'], dtype='<U13')],\n",
       "        [array(['7/11/08 18:44'], dtype='<U13')],\n",
       "        [array(['7/27/10 22:10'], dtype='<U13')],\n",
       "        [array(['5/29/08 22:40'], dtype='<U13')],\n",
       "        [array(['5/8/14 20:47'], dtype='<U12')],\n",
       "        [array(['5/28/08 21:43'], dtype='<U13')],\n",
       "        [array(['7/14/09 18:36'], dtype='<U13')],\n",
       "        [array(['7/22/10 17:34'], dtype='<U13')],\n",
       "        [array(['7/15/08 18:15'], dtype='<U13')],\n",
       "        [array(['5/31/07 17:05'], dtype='<U13')],\n",
       "        [array(['5/31/07 16:28'], dtype='<U13')],\n",
       "        [array(['6/15/09 15:39'], dtype='<U13')],\n",
       "        [array(['5/30/07 17:48'], dtype='<U13')],\n",
       "        [array(['7/26/06 17:38'], dtype='<U13')],\n",
       "        [array(['5/30/07 17:02'], dtype='<U13')],\n",
       "        [array(['6/26/08 16:00'], dtype='<U13')],\n",
       "        [array(['6/29/09 20:47'], dtype='<U13')],\n",
       "        [array(['6/17/09 20:47'], dtype='<U13')],\n",
       "        [array(['6/5/08 21:30'], dtype='<U12')],\n",
       "        [array(['6/2/08 17:12'], dtype='<U12')],\n",
       "        [array(['7/24/06 16:15'], dtype='<U13')],\n",
       "        [array(['7/24/06 16:15'], dtype='<U13')],\n",
       "        [array(['5/28/14 20:21'], dtype='<U13')],\n",
       "        [array(['6/26/08 3:30'], dtype='<U12')],\n",
       "        [array(['6/9/08 20:45'], dtype='<U12')],\n",
       "        [array(['6/12/08 0:10'], dtype='<U12')],\n",
       "        [array(['7/9/10 18:20'], dtype='<U12')],\n",
       "        [array(['6/17/08 16:15'], dtype='<U13')],\n",
       "        [array(['6/4/08 15:53'], dtype='<U12')],\n",
       "        [array(['6/15/06 19:12'], dtype='<U13')],\n",
       "        [array(['6/10/08 17:29'], dtype='<U13')],\n",
       "        [array(['5/14/09 21:11'], dtype='<U13')],\n",
       "        [array(['7/31/11 18:10'], dtype='<U13')],\n",
       "        [array(['5/26/09 18:00'], dtype='<U13')],\n",
       "        [array(['5/20/09 19:10'], dtype='<U13')],\n",
       "        [array(['5/21/08 21:30'], dtype='<U13')],\n",
       "        [array(['6/27/06 17:29'], dtype='<U13')],\n",
       "        [array(['6/20/06 22:13'], dtype='<U13')],\n",
       "        [array(['6/27/06 16:44'], dtype='<U13')],\n",
       "        [array(['6/29/06 17:20'], dtype='<U13')],\n",
       "        [array(['6/29/06 16:30'], dtype='<U13')],\n",
       "        [array(['6/29/06 16:26'], dtype='<U13')],\n",
       "        [array(['6/22/06 17:57'], dtype='<U13')],\n",
       "        [array(['5/20/08 23:40'], dtype='<U13')],\n",
       "        [array(['6/29/10 16:30'], dtype='<U13')],\n",
       "        [array(['6/22/06 17:06'], dtype='<U13')],\n",
       "        [array(['6/27/06 0:24'], dtype='<U12')],\n",
       "        [array(['6/27/06 1:28'], dtype='<U12')],\n",
       "        [array(['6/28/06 21:35'], dtype='<U13')],\n",
       "        [array(['6/28/06 21:35'], dtype='<U13')],\n",
       "        [array(['6/28/06 21:57'], dtype='<U13')],\n",
       "        [array(['6/21/06 3:47'], dtype='<U12')]], dtype=object)}"
      ]
     },
     "execution_count": 4,
     "metadata": {},
     "output_type": "execute_result"
    }
   ],
   "source": [
    "# See what our data looks like in a dictionary data structure\n",
    "data"
   ]
  },
  {
   "cell_type": "code",
   "execution_count": 3,
   "metadata": {
    "jupyter": {
     "source_hidden": true
    },
    "tags": []
   },
   "outputs": [
    {
     "data": {
      "text/plain": [
       "dict_keys(['__header__', '__version__', '__globals__', 'h1', 'Qobs1', 'date_of_obs'])"
      ]
     },
     "execution_count": 3,
     "metadata": {},
     "output_type": "execute_result"
    }
   ],
   "source": [
    "# Inspect the dictionary keys\n",
    "data.keys()"
   ]
  },
  {
   "cell_type": "markdown",
   "metadata": {},
   "source": [
    "We can convert this dictionary into a pandas dataframe and select only the columns of data that we want (ignoring the file metadata):\n",
    "(Even though we know, that in cases outside of the classroom, people only ignore metadata at their own peril.)"
   ]
  },
  {
   "cell_type": "code",
   "execution_count": 3,
   "metadata": {},
   "outputs": [
    {
     "data": {
      "text/html": [
       "<div>\n",
       "<style scoped>\n",
       "    .dataframe tbody tr th:only-of-type {\n",
       "        vertical-align: middle;\n",
       "    }\n",
       "\n",
       "    .dataframe tbody tr th {\n",
       "        vertical-align: top;\n",
       "    }\n",
       "\n",
       "    .dataframe thead th {\n",
       "        text-align: right;\n",
       "    }\n",
       "</style>\n",
       "<table border=\"1\" class=\"dataframe\">\n",
       "  <thead>\n",
       "    <tr style=\"text-align: right;\">\n",
       "      <th></th>\n",
       "      <th>date_of_obs</th>\n",
       "      <th>h1</th>\n",
       "      <th>Qobs1</th>\n",
       "    </tr>\n",
       "  </thead>\n",
       "  <tbody>\n",
       "    <tr>\n",
       "      <th>0</th>\n",
       "      <td>[9/26/08 16:30]</td>\n",
       "      <td>0.1805</td>\n",
       "      <td>0.07786</td>\n",
       "    </tr>\n",
       "    <tr>\n",
       "      <th>1</th>\n",
       "      <td>[9/19/08 0:02]</td>\n",
       "      <td>0.2197</td>\n",
       "      <td>0.071914</td>\n",
       "    </tr>\n",
       "    <tr>\n",
       "      <th>2</th>\n",
       "      <td>[9/10/08 21:35]</td>\n",
       "      <td>0.2406</td>\n",
       "      <td>0.143829</td>\n",
       "    </tr>\n",
       "    <tr>\n",
       "      <th>3</th>\n",
       "      <td>[9/10/10 17:52]</td>\n",
       "      <td>0.2407</td>\n",
       "      <td>0.168177</td>\n",
       "    </tr>\n",
       "    <tr>\n",
       "      <th>4</th>\n",
       "      <td>[8/20/07 18:22]</td>\n",
       "      <td>0.2565</td>\n",
       "      <td>0.243489</td>\n",
       "    </tr>\n",
       "  </tbody>\n",
       "</table>\n",
       "</div>"
      ],
      "text/plain": [
       "       date_of_obs      h1     Qobs1\n",
       "0  [9/26/08 16:30]  0.1805   0.07786\n",
       "1   [9/19/08 0:02]  0.2197  0.071914\n",
       "2  [9/10/08 21:35]  0.2406  0.143829\n",
       "3  [9/10/10 17:52]  0.2407  0.168177\n",
       "4  [8/20/07 18:22]  0.2565  0.243489"
      ]
     },
     "execution_count": 3,
     "metadata": {},
     "output_type": "execute_result"
    }
   ],
   "source": [
    "df = pd.DataFrame(np.hstack((data['date_of_obs'], data['h1'], data['Qobs1'])),\n",
    "                  columns=['date_of_obs','h1', 'Qobs1'])\n",
    "df.head()"
   ]
  },
  {
   "cell_type": "markdown",
   "metadata": {},
   "source": [
    "And make sure our ```date_of_obs``` is being interpreted as a datetime correctly (see documentation [here](https://pandas.pydata.org/pandas-docs/stable/reference/api/pandas.to_datetime.html) and [here](http://strftime.org/)):"
   ]
  },
  {
   "cell_type": "code",
   "execution_count": 4,
   "metadata": {},
   "outputs": [],
   "source": [
    "df['date_of_obs'] = [pd.to_datetime(dt[0], format='%m/%d/%y %H:%M') for dt in df['date_of_obs']]"
   ]
  },
  {
   "cell_type": "code",
   "execution_count": 5,
   "metadata": {},
   "outputs": [
    {
     "data": {
      "text/html": [
       "<div>\n",
       "<style scoped>\n",
       "    .dataframe tbody tr th:only-of-type {\n",
       "        vertical-align: middle;\n",
       "    }\n",
       "\n",
       "    .dataframe tbody tr th {\n",
       "        vertical-align: top;\n",
       "    }\n",
       "\n",
       "    .dataframe thead th {\n",
       "        text-align: right;\n",
       "    }\n",
       "</style>\n",
       "<table border=\"1\" class=\"dataframe\">\n",
       "  <thead>\n",
       "    <tr style=\"text-align: right;\">\n",
       "      <th></th>\n",
       "      <th>date_of_obs</th>\n",
       "      <th>h1</th>\n",
       "      <th>Qobs1</th>\n",
       "    </tr>\n",
       "  </thead>\n",
       "  <tbody>\n",
       "    <tr>\n",
       "      <th>0</th>\n",
       "      <td>2008-09-26 16:30:00</td>\n",
       "      <td>0.1805</td>\n",
       "      <td>0.07786</td>\n",
       "    </tr>\n",
       "    <tr>\n",
       "      <th>1</th>\n",
       "      <td>2008-09-19 00:02:00</td>\n",
       "      <td>0.2197</td>\n",
       "      <td>0.071914</td>\n",
       "    </tr>\n",
       "    <tr>\n",
       "      <th>2</th>\n",
       "      <td>2008-09-10 21:35:00</td>\n",
       "      <td>0.2406</td>\n",
       "      <td>0.143829</td>\n",
       "    </tr>\n",
       "    <tr>\n",
       "      <th>3</th>\n",
       "      <td>2010-09-10 17:52:00</td>\n",
       "      <td>0.2407</td>\n",
       "      <td>0.168177</td>\n",
       "    </tr>\n",
       "    <tr>\n",
       "      <th>4</th>\n",
       "      <td>2007-08-20 18:22:00</td>\n",
       "      <td>0.2565</td>\n",
       "      <td>0.243489</td>\n",
       "    </tr>\n",
       "  </tbody>\n",
       "</table>\n",
       "</div>"
      ],
      "text/plain": [
       "          date_of_obs      h1     Qobs1\n",
       "0 2008-09-26 16:30:00  0.1805   0.07786\n",
       "1 2008-09-19 00:02:00  0.2197  0.071914\n",
       "2 2008-09-10 21:35:00  0.2406  0.143829\n",
       "3 2010-09-10 17:52:00  0.2407  0.168177\n",
       "4 2007-08-20 18:22:00  0.2565  0.243489"
      ]
     },
     "execution_count": 5,
     "metadata": {},
     "output_type": "execute_result"
    }
   ],
   "source": [
    "df.head()"
   ]
  },
  {
   "cell_type": "markdown",
   "metadata": {},
   "source": [
    "### Calculating rating curves\n",
    "\n",
    "At stream gauges all over the world, we measure a timeseries of water height at a fixed point, and we generally develop an empirical rating curve to determine discharge, which is volume of flow per unit time, in units of of $m^3/s$ (cubic meters per second or cms) or $ft^3/s$ (cubic feet per second of cfs).\n",
    "\n",
    "In developing this rating curve, we are trying to solve for a, b, and c in the equation\n",
    "$Q = a(h-b)^c$"
   ]
  },
  {
   "cell_type": "code",
   "execution_count": 6,
   "metadata": {},
   "outputs": [
    {
     "data": {
      "text/plain": [
       "[<matplotlib.lines.Line2D at 0x7fc2e1197850>]"
      ]
     },
     "execution_count": 6,
     "metadata": {},
     "output_type": "execute_result"
    },
    {
     "data": {
      "image/png": "[encoded data removed]",
      "text/plain": [
       "<Figure size 648x432 with 1 Axes>"
      ]
     },
     "metadata": {
      "needs_background": "light"
     },
     "output_type": "display_data"
    }
   ],
   "source": [
    "# First, let's plot all of the data we just read in.\n",
    "plt.figure(figsize=(9,6))\n",
    "\n",
    "plt.xlabel('stage (m)')\n",
    "plt.ylabel('discharge (cms)')\n",
    "plt.plot(df.h1,df.Qobs1,'k*')"
   ]
  },
  {
   "cell_type": "code",
   "execution_count": 7,
   "metadata": {},
   "outputs": [
    {
     "data": {
      "text/plain": [
       "[<matplotlib.lines.Line2D at 0x7fc2e108ad60>]"
      ]
     },
     "execution_count": 7,
     "metadata": {},
     "output_type": "execute_result"
    },
    {
     "data": {
      "image/png": "[encoded data removed]",
      "text/plain": [
       "<Figure size 648x432 with 1 Axes>"
      ]
     },
     "metadata": {
      "needs_background": "light"
     },
     "output_type": "display_data"
    }
   ],
   "source": [
    "#And plot the log transform of both variables\n",
    "loght=np.log(df.h1.astype('float'))\n",
    "logQ=np.log(df.Qobs1.astype('float'))\n",
    "\n",
    "plt.figure(figsize=(9,6))\n",
    "\n",
    "plt.xlabel('log(stage (m))')\n",
    "plt.ylabel('log(discharge (cms))')\n",
    "plt.plot(loght,logQ,'k*')"
   ]
  },
  {
   "cell_type": "markdown",
   "metadata": {
    "jp-MarkdownHeadingCollapsed": true,
    "tags": []
   },
   "source": [
    "### Inspect the data\n",
    "You can see above that even with a log transform, the data do not fall on a straight line.  If I squint at the graph above, I can imagine two lines through this data, with a break about midway through the data.\n",
    "\n",
    "At this point, it's a good idea to look at your field site and see what physical evidence there is that the rating curve might have a break point.  \n",
    "\n",
    "![Lyell Fork Tuolumne Plot](LyellFork_Tuolumne_flowcontrol.png)\n",
    "\n",
    "You can see from the photo above (and from the lecture notes), that at certain flow levels, this river stretch switches from being channel controlled to having a bedrock control, like a weir.  From Open Channel Flow class (and from the lecture notes), we know that this changes the exponent in the stage-discharge equation, which would change the slope of our line here.\n",
    "\n",
    "For simplicity, we will consider only the upper end of the rating curve, focusing on flows that are high enough to not be influenced by the pictured bedrock control."
   ]
  },
  {
   "cell_type": "markdown",
   "metadata": {},
   "source": [
    "---\n",
    "### PART 1: Linear Regression of Transformed Variables:  \n",
    "As illustrated above, due to the nature of our channel, we would need to separate our variables and fit two lines to it.  For simplicity, we will focus here on the upper portion of the rating curve, looking only at higher flows.  Work by CEE M.S. student Gwyn Perry, the transition between the two slopes is about 0.54.  I also want to ignore two outlier measurements right around this transition, so I choose to look at data above a stage height of 0.59.  You can change this cut-off value and see how it changes the results.  Ideally, we would have a survey of the location that identifies the exact stage when the bedrock control becomes dominant."
   ]
  },
  {
   "cell_type": "code",
   "execution_count": 8,
   "metadata": {},
   "outputs": [],
   "source": [
    "# Define a level where the transition occurs, where you need different rating curve coefficients.\n",
    "h11 = 0.59"
   ]
  },
  {
   "cell_type": "markdown",
   "metadata": {},
   "source": [
    "First, we identify the rows in our data frame that correspond to flows with h1 > h11, these correspond to data above the change in channel control."
   ]
  },
  {
   "cell_type": "code",
   "execution_count": 9,
   "metadata": {},
   "outputs": [],
   "source": [
    "Qobs_now = df.Qobs1[df.h1 > h11]\n",
    "h_now = df.h1[df.h1 > h11]"
   ]
  },
  {
   "cell_type": "markdown",
   "metadata": {},
   "source": [
    "In developing this rating curve, we are trying to solve for a, b, and c in the equation\n",
    "$Q = a(h-b)^c$\n",
    "\n",
    "When we take the log of both sides, we get\n",
    "$log(Q) = log(a) + c*log(h-b)$\n",
    "Note that we can use linear regression to solve for $log(a)$ -- this would be $B0$ in earlier code -- and for $c$ -- this would be $B1$ in earlier code.  Note that we cannot directly solve for $b$.  We have to guess $b$ (based on observations in the field or an iterative technique)."
   ]
  },
  {
   "cell_type": "code",
   "execution_count": 10,
   "metadata": {},
   "outputs": [
    {
     "name": "stdout",
     "output_type": "stream",
     "text": [
      "36    0.3296\n",
      "37    0.3344\n",
      "38    0.3558\n",
      "39    0.3572\n",
      "40    0.3637\n",
      "41     0.364\n",
      "42     0.393\n",
      "43    0.3953\n",
      "44    0.3957\n",
      "45    0.4025\n",
      "46    0.4073\n",
      "47     0.416\n",
      "48     0.416\n",
      "49    0.4261\n",
      "50     0.432\n",
      "51     0.444\n",
      "52    0.4569\n",
      "53    0.4643\n",
      "54     0.465\n",
      "55    0.4857\n",
      "56     0.504\n",
      "57    0.5068\n",
      "58    0.5342\n",
      "59    0.5414\n",
      "60     0.556\n",
      "61    0.5697\n",
      "62    0.5715\n",
      "63    0.6554\n",
      "64    0.6685\n",
      "65    0.6691\n",
      "66    0.6703\n",
      "67     0.687\n",
      "68    0.6881\n",
      "69    0.6952\n",
      "70    0.7049\n",
      "71     0.709\n",
      "72     0.714\n",
      "73    0.8006\n",
      "74    0.8274\n",
      "75     0.829\n",
      "76     0.829\n",
      "77    0.8334\n",
      "78    0.8481\n",
      "Name: h1, dtype: object\n"
     ]
    }
   ],
   "source": [
    "# based on field measurements, we know b must be between 10 and 50 cm, \n",
    "# which is the same as 0.1 to 0.5 meters.  \n",
    "# We start with a guess.\n",
    "b=0.28\n",
    "# and we subtract this value off of the measured stream height\n",
    "hobs_minusb=h_now.subtract(b)\n",
    "print(hobs_minusb)"
   ]
  },
  {
   "cell_type": "code",
   "execution_count": 11,
   "metadata": {},
   "outputs": [
    {
     "data": {
      "text/plain": [
       "[<matplotlib.lines.Line2D at 0x7fc2dcf757c0>]"
      ]
     },
     "execution_count": 11,
     "metadata": {},
     "output_type": "execute_result"
    },
    {
     "data": {
      "image/png": "[encoded data removed]",
      "text/plain": [
       "<Figure size 648x432 with 1 Axes>"
      ]
     },
     "metadata": {
      "needs_background": "light"
     },
     "output_type": "display_data"
    }
   ],
   "source": [
    "#And plot the log transform of both variables\n",
    "loght=np.log(hobs_minusb.astype('float'))\n",
    "# note that the above is taking the log of the observed values minus b\n",
    "logQ=np.log(Qobs_now.astype('float'))\n",
    "\n",
    "plt.figure(figsize=(9,6))\n",
    "\n",
    "plt.xlabel('log(stage (m))')\n",
    "plt.ylabel('log(discharge (cms))')\n",
    "plt.plot(loght,logQ,'k*')"
   ]
  },
  {
   "cell_type": "markdown",
   "metadata": {},
   "source": [
    "With linear regression, we can only solve for two of the three unknowns in our rating curve equation:\n",
    "$Q = a(h-b)^c$\n",
    "which we have log transformed to be\n",
    "$log(Q) = log(a) + c*log(h-b)$\n",
    "\n",
    "First, we will assume that b is 0.28 m, as we entered above.   In practice, this is often estimated from field surveys as the maximum height of water in the measuring pool when flow stops.\n",
    "\n",
    "We then use the same code from basic linear regresssion (Lab 4.3 in CEE 465: Data Analysis), where our calculated slope will be c, and our calculated intercept will be log(a)."
   ]
  },
  {
   "cell_type": "code",
   "execution_count": 12,
   "metadata": {},
   "outputs": [
    {
     "name": "stdout",
     "output_type": "stream",
     "text": [
      "B0 : 3.4077\n",
      "B1 : 1.7662\n"
     ]
    }
   ],
   "source": [
    "x=loght\n",
    "# Note that our x value here includes the log of our measured stage minus b (see above)\n",
    "y=logQ\n",
    "n = len(x)\n",
    "\n",
    "B1 = ( n*np.sum(x*y) - np.sum(x)*np.sum(y) ) / ( n*np.sum(x**2) - np.sum(x)**2 ) # B1 parameter, slope\n",
    "B0 = np.mean(y) - B1*np.mean(x) # B0 parameter, y-intercept\n",
    "\n",
    "print('B0 : {}'.format(np.round(B0,4)))\n",
    "print('B1 : {}'.format(np.round(B1,4)))"
   ]
  },
  {
   "cell_type": "markdown",
   "metadata": {},
   "source": [
    "Just to clarify what we have here.  $B0 = log(a)$ and $B1 = c$ and $x = log(h-b)$.  If we want to revert to our original equation, we solve for $a = exp(B0)$ and $c = B1$ and $h = exp(x) + b$ "
   ]
  },
  {
   "cell_type": "code",
   "execution_count": 13,
   "metadata": {},
   "outputs": [],
   "source": [
    "# Now, how do we find 95% confidence intervals?  We do this for our estimates of logQ\n",
    "# Again, borrowing from Lab 4.3\n",
    "y_predicted = B0 + B1*x\n",
    "residuals = (y - y_predicted)\n",
    "# sum of squared errors\n",
    "sse = np.sum(residuals**2)\n",
    "# standard error of regression\n",
    "s = np.sqrt(sse/(n-2))\n",
    "\n",
    "# create an array of x values\n",
    "p_x = np.linspace(x.min(),x.max(),100)\n",
    "\n",
    "# using our model parameters to predict y values\n",
    "p_y = B0 + B1*p_x\n",
    "\n",
    "# calculate the standard error of the predictions\n",
    "sigma_ep = np.sqrt( s**2 * (1 + 1/n + ( ( n*(p_x-x.mean())**2 ) / ( n*np.sum(x**2) - np.sum(x)**2 ) ) ) )\n",
    "\n",
    "# our chosen alpha\n",
    "alpha = 0.05\n",
    "\n",
    "# compute our degrees of freedom with the length of the predicted dataset\n",
    "n = len(p_x)\n",
    "dof = n - 2\n",
    "\n",
    "# get the t-value for our alpha and degrees of freedom\n",
    "t = st.t.ppf(1-alpha/2, dof)\n",
    "\n",
    "# compute the upper and lower limits at each of the p_x values\n",
    "p_y_lower = p_y - t * sigma_ep\n",
    "p_y_upper = p_y + t * sigma_ep"
   ]
  },
  {
   "cell_type": "code",
   "execution_count": 14,
   "metadata": {},
   "outputs": [
    {
     "data": {
      "text/plain": [
       "[<matplotlib.lines.Line2D at 0x7fc2dcef9550>]"
      ]
     },
     "execution_count": 14,
     "metadata": {},
     "output_type": "execute_result"
    },
    {
     "data": {
      "image/png": "[encoded data removed]",
      "text/plain": [
       "<Figure size 648x432 with 1 Axes>"
      ]
     },
     "metadata": {
      "needs_background": "light"
     },
     "output_type": "display_data"
    }
   ],
   "source": [
    "# First let's make a plot in the log-transformed space\n",
    "plt.figure(figsize=(9,6))\n",
    "\n",
    "plt.xlabel('log(stage (m))')\n",
    "plt.ylabel('log(discharge (cms))')\n",
    "plt.plot(loght,logQ,'k*')\n",
    "plt.plot(p_x,p_y)\n",
    "plt.plot(p_x,p_y_lower,':r')\n",
    "plt.plot(p_x,p_y_upper,':r')"
   ]
  },
  {
   "cell_type": "code",
   "execution_count": 15,
   "metadata": {},
   "outputs": [
    {
     "data": {
      "text/plain": [
       "[<matplotlib.lines.Line2D at 0x7fc2dce6d430>]"
      ]
     },
     "execution_count": 15,
     "metadata": {},
     "output_type": "execute_result"
    },
    {
     "data": {
      "image/png": "[encoded data removed]",
      "text/plain": [
       "<Figure size 648x432 with 1 Axes>"
      ]
     },
     "metadata": {
      "needs_background": "light"
     },
     "output_type": "display_data"
    }
   ],
   "source": [
    "# Now we transform each piece back into the original form\n",
    "Q_predict=np.exp(p_y)\n",
    "Q_predict_upper=np.exp(p_y_upper)\n",
    "Q_predict_lower=np.exp(p_y_lower)\n",
    "x_topredict=np.exp(p_x) + b\n",
    "# Plot the original data and then the prediction lines\n",
    "plt.figure(figsize=(9,6))\n",
    "\n",
    "plt.xlabel('stage (m)')\n",
    "plt.ylabel('discharge (cms)')\n",
    "plt.plot(h_now,Qobs_now,'k*')\n",
    "plt.plot(x_topredict,Q_predict)\n",
    "plt.plot(x_topredict,Q_predict_lower,':r')\n",
    "plt.plot(x_topredict,Q_predict_upper,':r')"
   ]
  },
  {
   "cell_type": "code",
   "execution_count": null,
   "metadata": {},
   "outputs": [],
   "source": []
  },
  {
   "cell_type": "code",
   "execution_count": null,
   "metadata": {},
   "outputs": [],
   "source": []
  }
 ],
 "metadata": {
  "kernelspec": {
   "display_name": "Python 3 (ipykernel)",
   "language": "python",
   "name": "python3"
  },
  "language_info": {
   "codemirror_mode": {
    "name": "ipython",
    "version": 3
   },
   "file_extension": ".py",
   "mimetype": "text/x-python",
   "name": "python",
   "nbconvert_exporter": "python",
   "pygments_lexer": "ipython3",
   "version": "3.9.7"
  }
 },
 "nbformat": 4,
 "nbformat_minor": 4
}
