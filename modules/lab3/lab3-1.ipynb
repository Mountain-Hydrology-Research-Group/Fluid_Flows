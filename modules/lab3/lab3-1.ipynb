{
 "cells": [
  {
   "cell_type": "markdown",
   "metadata": {},
   "source": [
    "# Lab 3-1: Gaussian Smoke Stack\n",
    "For this example, we want to plot concentrations downwind of a smokestack."
   ]
  },
  {
   "cell_type": "code",
   "execution_count": 1,
   "metadata": {},
   "outputs": [],
   "source": [
    "import numpy as np\n",
    "import pandas as pd\n",
    "import scipy.stats as stats\n",
    "import matplotlib.pyplot as plt\n",
    "%matplotlib inline"
   ]
  },
  {
   "cell_type": "code",
   "execution_count": 2,
   "metadata": {},
   "outputs": [],
   "source": [
    "#First, we define some characteristics of our smokestack\n",
    "Q = 8500\n",
    "# Q is a constant mass flux from the smokestack in kg/s\n",
    "u = 3.5\n",
    "# u is a constant wind speed in m/s at the effective stack height h\n",
    "h = 200\n",
    "# h is the effective height of the smokestack (actually stack height plus additional\n",
    "# height the plume rises, in m"
   ]
  },
  {
   "cell_type": "markdown",
   "metadata": {},
   "source": [
    "![smokestack_plume](Smokestack_gaussian_plume.png)"
   ]
  },
  {
   "cell_type": "markdown",
   "metadata": {},
   "source": [
    "How much the plume spreads is a function of the distance from the stack, x, and the atmospheric stability.  We will incorporate the stability explicitly in lab 3-3.  \n",
    "For now, we just define the values for our example."
   ]
  },
  {
   "cell_type": "code",
   "execution_count": 3,
   "metadata": {},
   "outputs": [],
   "source": [
    "x=10 #not used, but referenced here because sigma values are a function of x, in m\n",
    "sig_z=400\n",
    "sig_y=800\n",
    "\n",
    "# We are concerned with the centerline\n",
    "y = 0\n",
    "# And with how the plume concentration varies with height\n",
    "# so we need to create a numpy array for a range of heights above the ground\n",
    "z =  np.arange(0,600,1)"
   ]
  },
  {
   "cell_type": "markdown",
   "metadata": {},
   "source": [
    "From lecture notes, we know that we can write\n",
    "$$ C(x,y,z) = \\frac{Q}{2\\pi u\\sigma_y\\sigma_z}\\exp(\\frac{-(z-h)^2}{2\\sigma_z^2})\\exp(\\frac{-y^2}{2\\sigma_y^2}) $$"
   ]
  },
  {
   "cell_type": "markdown",
   "metadata": {},
   "source": [
    "And then calculate and plot how the concentration looks downstream"
   ]
  },
  {
   "cell_type": "code",
   "execution_count": 8,
   "metadata": {},
   "outputs": [],
   "source": [
    "C=Q/(2*np.pi*u*sig_z*sig_y)*np.exp(-(np.power(z-h,2))/(2*np.power(sig_z,2)))*np.exp(-(np.power(y,2))/(2*np.power(sig_y,2))) "
   ]
  },
  {
   "cell_type": "code",
   "execution_count": 11,
   "metadata": {},
   "outputs": [
    {
     "data": {
      "text/plain": [
       "<matplotlib.legend.Legend at 0x7fe3a1081eb0>"
      ]
     },
     "execution_count": 11,
     "metadata": {},
     "output_type": "execute_result"
    },
    {
     "data": {
      "image/png": "[encoded data removed]",
      "text/plain": [
       "<Figure size 432x288 with 1 Axes>"
      ]
     },
     "metadata": {
      "needs_background": "light"
     },
     "output_type": "display_data"
    }
   ],
   "source": [
    "plt.figure()\n",
    "plt.plot(C, z, label='Concentration 10 m downwind with no reflection')\n",
    "plt.ylabel('height above ground (m)')\n",
    "plt.xlabel('concentration (kg/m^3)')\n",
    "plt.title('Concentration 10 m downwind')\n",
    "plt.legend(loc=\"best\")"
   ]
  },
  {
   "cell_type": "markdown",
   "metadata": {},
   "source": [
    "You'll notice in the plot that the plume is not all accounted for.  Some of it has hit the ground and been reflected.  We can account for this by adding in an imaginary source below the ground at a mirror of the effective smokestack height as illustrated below.\n",
    "![Plume_reflection](Plume_reflection.png)"
   ]
  },
  {
   "cell_type": "markdown",
   "metadata": {},
   "source": [
    "---\n",
    "Using the Code and the plot above as an example, calculate the correct concentration with height above the surface, accounting for this reflection.  For reference, the equation, from lecture notes, including this reflection is\n",
    "$$ C(x,y,z) = \\frac{Q}{2\\pi u\\sigma_y\\sigma_z}[\\exp(\\frac{-(z-h)^2}{2\\sigma_z^2})+\\exp(\\frac{-(z+h)^2}{2\\sigma_z^2})]\\exp(\\frac{-y^2}{2\\sigma_y^2}) $$"
   ]
  },
  {
   "cell_type": "code",
   "execution_count": null,
   "metadata": {},
   "outputs": [],
   "source": [
    "#Use this cell to write the python code for the equation with the reflection from the ground."
   ]
  },
  {
   "cell_type": "code",
   "execution_count": null,
   "metadata": {},
   "outputs": [],
   "source": []
  },
  {
   "cell_type": "code",
   "execution_count": null,
   "metadata": {},
   "outputs": [],
   "source": []
  },
  {
   "cell_type": "code",
   "execution_count": null,
   "metadata": {},
   "outputs": [],
   "source": []
  },
  {
   "cell_type": "code",
   "execution_count": null,
   "metadata": {},
   "outputs": [],
   "source": []
  }
 ],
 "metadata": {
  "kernelspec": {
   "display_name": "Python 3 (ipykernel)",
   "language": "python",
   "name": "python3"
  },
  "language_info": {
   "codemirror_mode": {
    "name": "ipython",
    "version": 3
   },
   "file_extension": ".py",
   "mimetype": "text/x-python",
   "name": "python",
   "nbconvert_exporter": "python",
   "pygments_lexer": "ipython3",
   "version": "3.9.7"
  }
 },
 "nbformat": 4,
 "nbformat_minor": 4
}
