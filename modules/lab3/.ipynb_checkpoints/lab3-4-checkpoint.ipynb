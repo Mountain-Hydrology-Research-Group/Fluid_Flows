{
 "cells": [
  {
   "cell_type": "markdown",
   "id": "2284485f-ee6d-4a81-9dac-858930a5f7b5",
   "metadata": {},
   "source": [
    "## Lab 3-4:  Combine all the steps and solve a problem\n",
    "For this lab, combine what you learned in labs 3-1 to 3-3 to solve an air quality problem"
   ]
  },
  {
   "cell_type": "code",
   "execution_count": 3,
   "id": "f91c15fa-be94-4763-9113-5e7aa395d3a3",
   "metadata": {},
   "outputs": [],
   "source": [
    "# We'll start by importing python toolboxes that might be useful\n",
    "import numpy as np\n",
    "import scipy.stats as stats\n",
    "import matplotlib.pyplot as plt\n",
    "%matplotlib inline"
   ]
  },
  {
   "cell_type": "markdown",
   "id": "dd3413d1-9bf5-4cda-ba32-9692c2c20b42",
   "metadata": {},
   "source": [
    "You have finished designing a treatment system for removing arsenic from landfll leachate.\n",
    "The treatment system you developed involves the complete reduction of Arsenic (As) species\n",
    "to Arsine gas ($H_3As$). Arsine gas is a known human carcinogen and you need to determine if\n",
    "the Arsine concentration leaving the treatment facility requires further treatment to ensure\n",
    "safe concentrations at the site boundary, a distance x = 2 km downwind. The treatment\n",
    "plant has a predicted emission rate of 300 mg/s The smokestack has an effective height,\n",
    "z = 100 m. The average wind speed measured at a height of 10 m is 6 m/s ($U_{10}$ = 6 m/s).\n",
    "Assume a fall afternoon and rural topography."
   ]
  },
  {
   "cell_type": "markdown",
   "id": "c365e40e-853e-4e31-a695-10a069a63049",
   "metadata": {},
   "source": [
    "1. Find the ground level oncentration leaving the site boundary."
   ]
  },
  {
   "cell_type": "code",
   "execution_count": null,
   "id": "e1f1bf10-da87-4e2e-af33-22715662edd8",
   "metadata": {},
   "outputs": [],
   "source": [
    "#You can use this cell to enter the code to solve part 1"
   ]
  },
  {
   "cell_type": "markdown",
   "id": "b1fa1039-5c95-403a-bdb3-c920f1fdf313",
   "metadata": {},
   "source": [
    "2. Calculate and plot the centerline ground level concentration versus distance from the\n",
    "stack, C(x)."
   ]
  },
  {
   "cell_type": "code",
   "execution_count": null,
   "id": "91339421-7bc7-4a93-8d22-a9303987f3fb",
   "metadata": {},
   "outputs": [],
   "source": [
    "# More code here"
   ]
  },
  {
   "cell_type": "markdown",
   "id": "44741c6c-6cfc-4f46-a179-5f7436b5c458",
   "metadata": {},
   "source": [
    "3. Find the magnitude and location of the peak ground level concentration."
   ]
  },
  {
   "cell_type": "code",
   "execution_count": 4,
   "id": "cf7d05dc-584f-4b05-a8dc-a7100c99509f",
   "metadata": {},
   "outputs": [],
   "source": [
    "# and make a nice plot here"
   ]
  },
  {
   "cell_type": "code",
   "execution_count": null,
   "id": "f9b814dd-d205-44ea-9ff8-5c6c61e4999b",
   "metadata": {},
   "outputs": [],
   "source": []
  }
 ],
 "metadata": {
  "kernelspec": {
   "display_name": "Python 3 (ipykernel)",
   "language": "python",
   "name": "python3"
  },
  "language_info": {
   "codemirror_mode": {
    "name": "ipython",
    "version": 3
   },
   "file_extension": ".py",
   "mimetype": "text/x-python",
   "name": "python",
   "nbconvert_exporter": "python",
   "pygments_lexer": "ipython3",
   "version": "3.9.7"
  }
 },
 "nbformat": 4,
 "nbformat_minor": 5
}
