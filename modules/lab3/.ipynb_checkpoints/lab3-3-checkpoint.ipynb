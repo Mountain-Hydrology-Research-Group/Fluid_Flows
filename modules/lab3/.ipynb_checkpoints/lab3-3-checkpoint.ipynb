{
 "cells": [
  {
   "cell_type": "markdown",
   "metadata": {},
   "source": [
    "## Lab 3-3:  Stability classes"
   ]
  },
  {
   "cell_type": "code",
   "execution_count": 1,
   "metadata": {},
   "outputs": [],
   "source": [
    "# to try this out, let's return to our Gaussian plume model but with different stabilities\n",
    "# first, load our packages and read in our data.\n",
    "\n",
    "import numpy as np\n",
    "import scipy.stats as st\n",
    "import pandas as pd\n",
    "import matplotlib.pyplot as plt\n",
    "%matplotlib inline\n"
   ]
  },
  {
   "cell_type": "code",
   "execution_count": 2,
   "metadata": {},
   "outputs": [
    {
     "name": "stdout",
     "output_type": "stream",
     "text": [
      "This worked\n"
     ]
    }
   ],
   "source": [
    "# In this lab, we will be using if and elif statements to assign variables.\n",
    "test = 'AA'\n",
    "if test == 'AA':\n",
    "    print('This worked')"
   ]
  },
  {
   "cell_type": "code",
   "execution_count": 3,
   "metadata": {},
   "outputs": [],
   "source": [
    "# Let's start with the functions and parameters from the Martin 1976 paper\n",
    "# here, we focus on distances more than 1 km (1000 m) from the source\n",
    "# for shorter distances, there are different functional forms.\n",
    "# Note that all of these are for vertical spreading sigma_z -- we will focus\n",
    "# our analysis along the centerline y (although the paper has values for sigma_y as well)\n",
    "\n",
    "# specify the range of interest over x (>1000 m only)\n",
    "x = np.arange(1000,100000,1)\n",
    "\n",
    "# b is a constant value across stability classes\n",
    "b = 0.894\n",
    "\n",
    "# specify the atmospheric class (based on lecture notes and Martin 1976 paper)\n",
    "airclass = 'A'\n",
    "\n",
    "if airclass == 'A':\n",
    "    c = 459.7\n",
    "    d = 2.094\n",
    "    f = -9.6\n",
    "    sig_z = c*np.power(x/1000,d) + f\n",
    "    a = 213\n",
    "    sig_y = a*np.power(x/1000,b)\n",
    " \n",
    "elif airclass == 'B':\n",
    "    c = 108\n",
    "    d = 1.1\n",
    "    f = 2.0\n",
    "    sig_z = c*np.power(x/1000,d) + f\n",
    "    a = 156\n",
    "    sig_y = a*np.power(x/1000,b)\n",
    "\n",
    "elif airclass == 'C':\n",
    "    c = 61\n",
    "    d = 0.911\n",
    "    f = 0\n",
    "    sig_z = c*np.power(x/1000,d) + f\n",
    "    a = 104\n",
    "    sig_y = a*np.power(x/1000,b)\n",
    "\n",
    "elif airclass == 'D':\n",
    "    c = 44.5\n",
    "    d = 0.516\n",
    "    f = -13\n",
    "    sig_z = c*np.power(x/1000,d) + f\n",
    "    a = 68\n",
    "    sig_y = a*np.power(x/1000,b)\n",
    "\n",
    "elif airclass == 'E':\n",
    "    c = 55.4\n",
    "    d = 0.305\n",
    "    f = -34\n",
    "    sig_z = c*np.power(x/1000,d) + f\n",
    "    a = 50.5\n",
    "    sig_y = a*np.power(x/1000,b)\n",
    "\n",
    "elif airclass == 'F':\n",
    "    c = 62.6\n",
    "    d = 0.180\n",
    "    f = -48.6\n",
    "    sig_z = c*np.power(x/1000,d) + f\n",
    "    a = 34\n",
    "    sig_y = a*np.power(x/1000,b)"
   ]
  },
  {
   "cell_type": "code",
   "execution_count": 4,
   "metadata": {},
   "outputs": [
    {
     "name": "stdout",
     "output_type": "stream",
     "text": [
      "459.7\n"
     ]
    }
   ],
   "source": [
    "# print out the value of c to make sure that the program assigned the right one\n",
    "print(c)"
   ]
  },
  {
   "cell_type": "code",
   "execution_count": null,
   "metadata": {},
   "outputs": [],
   "source": []
  },
  {
   "cell_type": "code",
   "execution_count": 5,
   "metadata": {},
   "outputs": [
    {
     "data": {
      "text/plain": [
       "<matplotlib.legend.Legend at 0x7fcab8b7d220>"
      ]
     },
     "execution_count": 5,
     "metadata": {},
     "output_type": "execute_result"
    },
    {
     "data": {
      "image/png": "[encoded data removed]",
      "text/plain": [
       "<Figure size 432x288 with 1 Axes>"
      ]
     },
     "metadata": {
      "needs_background": "light"
     },
     "output_type": "display_data"
    }
   ],
   "source": [
    "\n",
    "#Let's try plotting how sigma changes with distance downwind, x\n",
    "plt.figure()\n",
    "plt.plot(x, sig_z, label=airclass)\n",
    "plt.ylabel('sigma')\n",
    "plt.xlabel('distance downwind (m)')\n",
    "plt.title('Smokestack spreading function')\n",
    "plt.legend(loc=\"best\")"
   ]
  },
  {
   "cell_type": "code",
   "execution_count": 6,
   "metadata": {},
   "outputs": [],
   "source": [
    "# Following the lecture notes, we can then plot the ground concentration along the centerline\n",
    "# where y = 0  and z = 0.  \n",
    "\n",
    "# if we assume the same plume discharge, height and wind as in lab 3-1, we get:\n",
    "Q = 8500\n",
    "# Q is a constant mass flux from the smokestack in kg/s\n",
    "u = 3.5\n",
    "# u is a constant wind speed in m/s at the effective stack height h\n",
    "h = 200\n",
    "# h is the effective height of the smokestack (actually stack height plus additional\n",
    "# height the plume rises, in m\n",
    "\n",
    "C=Q/(np.pi*u*sig_z*sig_y)*np.exp(-(np.power(h,2))/(2*np.power(sig_z,2))) "
   ]
  },
  {
   "cell_type": "code",
   "execution_count": 7,
   "metadata": {},
   "outputs": [
    {
     "data": {
      "text/plain": [
       "<matplotlib.legend.Legend at 0x7fcab8a94f10>"
      ]
     },
     "execution_count": 7,
     "metadata": {},
     "output_type": "execute_result"
    },
    {
     "data": {
      "image/png": "[encoded data removed]",
      "text/plain": [
       "<Figure size 432x288 with 1 Axes>"
      ]
     },
     "metadata": {
      "needs_background": "light"
     },
     "output_type": "display_data"
    }
   ],
   "source": [
    "plt.figure()\n",
    "plt.plot(x, C, label=airclass)\n",
    "plt.ylabel('kg/m^3')\n",
    "plt.xlabel('distance downwind (m)')\n",
    "plt.title('Plume concentration at centerline along the ground')\n",
    "plt.legend(loc=\"best\")"
   ]
  },
  {
   "cell_type": "code",
   "execution_count": 9,
   "metadata": {},
   "outputs": [
    {
     "data": {
      "text/plain": [
       "<matplotlib.legend.Legend at 0x7fcab87c6e20>"
      ]
     },
     "execution_count": 9,
     "metadata": {},
     "output_type": "execute_result"
    },
    {
     "data": {
      "image/png": "[encoded data removed]",
      "text/plain": [
       "<Figure size 432x288 with 1 Axes>"
      ]
     },
     "metadata": {
      "needs_background": "light"
     },
     "output_type": "display_data"
    }
   ],
   "source": [
    "# We can also make a plot where we zoom in closer (as concentration is very negligible far downwind\n",
    "plt.figure()\n",
    "plt.plot(x, C, label=airclass)\n",
    "plt.ylabel('kg/m^3')\n",
    "plt.xlabel('distance downwind (m)')\n",
    "plt.xlim(0,10000) \n",
    "plt.title('Plume concentration at centerline along the ground')\n",
    "plt.legend(loc=\"best\")"
   ]
  },
  {
   "cell_type": "markdown",
   "metadata": {},
   "source": [
    "## Work on your own\n",
    "Now, try changing the stability class and comparing the plots.  You may want to assign different variable names to the different spreading functions and concentrations so that you can save them all and then plot them all on one graph for comparison."
   ]
  }
 ],
 "metadata": {
  "kernelspec": {
   "display_name": "Python 3 (ipykernel)",
   "language": "python",
   "name": "python3"
  },
  "language_info": {
   "codemirror_mode": {
    "name": "ipython",
    "version": 3
   },
   "file_extension": ".py",
   "mimetype": "text/x-python",
   "name": "python",
   "nbconvert_exporter": "python",
   "pygments_lexer": "ipython3",
   "version": "3.10.13"
  }
 },
 "nbformat": 4,
 "nbformat_minor": 4
}
