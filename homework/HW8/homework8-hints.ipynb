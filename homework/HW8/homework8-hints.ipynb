{
 "cells": [
  {
   "cell_type": "markdown",
   "metadata": {},
   "source": [
    "HW 8 Problem 1 Hints"
   ]
  },
  {
   "cell_type": "code",
   "execution_count": null,
   "metadata": {},
   "outputs": [],
   "source": [
    "import numpy as np\n",
    "import pandas as pd\n",
    "import scipy.io as sio \n",
    "import scipy.stats as st\n",
    "import matplotlib.pyplot as plt\n",
    "import datetime as dt\n",
    "from numpy.linalg import svd\n",
    "%matplotlib inline"
   ]
  },
  {
   "cell_type": "markdown",
   "metadata": {},
   "source": [
    "***\n",
    "#### Load iButton air temperature data\n",
    "Unpack the mat file into numpy arrays, format dates to python datetimes following the method outlined [here](https://sociograph.blogspot.com/2011/04/how-to-avoid-gotcha-when-converting.html)."
   ]
  },
  {
   "cell_type": "code",
   "execution_count": null,
   "metadata": {},
   "outputs": [],
   "source": [
    "# load the ibutton data\n",
    "data = sio.loadmat('iButtons_2008-2010.mat')\n",
    "\n",
    "# convert matlab format dates to python datetimes\n",
    "datenums = data['TIME'][:,0]\n",
    "dates = [dt.datetime.fromordinal(int(d)) + dt.timedelta(days=d%1) - dt.timedelta(days = 366) for d in datenums]\n",
    "\n",
    "# Unpack the rest of the data\n",
    "SITE_NAMES = [name[0][0] for name in data['SITE_NAMES']]\n",
    "SITE_LATS = data['SITE_LATS'][:,0]\n",
    "SITE_LONS = data['SITE_LONS'][:,0]\n",
    "SITE_ELEVS = data['SITE_ELEVS'][:,0]\n",
    "AIR_TEMPERATURE = data['AIR_TEMPERATURE']\n",
    "AIR_TEMPERATURE_ZEROMEAN = data['AIR_TEMPERATURE_ZEROMEAN']\n",
    "\n",
    "nt = data['nt'][0][0] # size in the t dimension\n",
    "nx = data['nx'][0][0] # size in the x dimension (number of sites)"
   ]
  },
  {
   "cell_type": "markdown",
   "metadata": {},
   "source": [
    "#### Plot a timseries for a single site\n",
    "Note: use plt.xlim to set x axis limits to \"zoom in\" to a smaller time period"
   ]
  },
  {
   "cell_type": "code",
   "execution_count": null,
   "metadata": {},
   "outputs": [],
   "source": [
    "site = 0 # plot the first site of 21\n",
    "\n",
    "plt.figure(figsize=(10,5))\n",
    "plt.plot(dates,AIR_TEMPERATURE[:,site],label=SITE_NAMES[site])\n",
    "plt.legend(loc='best')\n",
    "plt.ylabel('Air Temperature, C')\n",
    "plt.xlabel('Time');\n",
    "\n",
    "# use xlim to set x axis limits to zoom in\n",
    "# comment xlim out to plot the entire timeseries\n",
    "#plt.xlim((dates[100], dates[500])); \n"
   ]
  },
  {
   "cell_type": "markdown",
   "metadata": {},
   "source": [
    "#### Decompose the entire dataset using SVD"
   ]
  },
  {
   "cell_type": "code",
   "execution_count": null,
   "metadata": {},
   "outputs": [],
   "source": [
    "[U,S,V] = svd(AIR_TEMPERATURE_ZEROMEAN,False)"
   ]
  },
  {
   "cell_type": "markdown",
   "metadata": {},
   "source": [
    "Plot the first leading pattern of spatial weights (EOF) against latitude and longitude."
   ]
  },
  {
   "cell_type": "code",
   "execution_count": null,
   "metadata": {},
   "outputs": [],
   "source": [
    "i = 0 # select the first EOF\n",
    "\n",
    "# Make a scatter plot\n",
    "plt.scatter(SITE_LONS,SITE_LATS,     # use longitude and latitude as the x and y values\n",
    "            c=V[i,:],                # set the color map value from V\n",
    "            s=np.abs(V[i,:]*200),    # also set the size of the marker from abs(V) (x200 to make it easier to see)\n",
    "            marker='o',cmap='RdBu',  # select marker type and color map\n",
    "            vmin=-0.4,vmax=0.4)      # set min and max for color map values\n",
    "\n",
    "# Add labels and format the scatterplot\n",
    "plt.colorbar(label='EOF Spatial Weight') # add a colorbar and label it\n",
    "plt.title('EOF {}'.format(i+1)) # add a title\n",
    "plt.xlabel('Longitude') # x axis label\n",
    "plt.ylabel('Latitude'); # y axis label"
   ]
  },
  {
   "cell_type": "markdown",
   "metadata": {},
   "source": [
    "Plot the first leading pattern of temporal weights (PC)."
   ]
  },
  {
   "cell_type": "code",
   "execution_count": null,
   "metadata": {},
   "outputs": [],
   "source": [
    "\n",
    "i = 0 # select the first PC\n",
    "\n",
    "plt.figure(figsize=(10,5))\n",
    "plt.plot(dates,U[:,i],\n",
    "         label='PC {}'.format(i+1))\n",
    "plt.xlim((dates[100], dates[500]))\n",
    "plt.legend()\n",
    "plt.ylabel('PC Temporal Weight')\n",
    "plt.xlabel('Time');"
   ]
  },
  {
   "cell_type": "markdown",
   "metadata": {},
   "source": [
    "The rest is up to you to complete..."
   ]
  }
 ],
 "metadata": {
  "kernelspec": {
   "display_name": "Python 3",
   "language": "python",
   "name": "python3"
  },
  "language_info": {
   "codemirror_mode": {
    "name": "ipython",
    "version": 3
   },
   "file_extension": ".py",
   "mimetype": "text/x-python",
   "name": "python",
   "nbconvert_exporter": "python",
   "pygments_lexer": "ipython3",
   "version": "3.6.7"
  }
 },
 "nbformat": 4,
 "nbformat_minor": 2
}
