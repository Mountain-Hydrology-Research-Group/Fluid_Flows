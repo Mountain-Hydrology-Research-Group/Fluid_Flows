{
 "cells": [
  {
   "cell_type": "markdown",
   "metadata": {},
   "source": [
    "# Lab 2.2: Hypothesis Testing\n",
    "\n",
    "In Lab 2.1, we were addressing the following question:\n",
    "\n",
    "Question: Consider the peak flow time series for Skykomish River. Postulating a change in flood statistics around 1975, test for statistical significance of the observed change in the mean annual flood. \n",
    "\n",
    "We used a two-sample test, with alpha=0.05 (i.e. 95% confidence) and the z-distribution to define the rejection region (why is this appropriate?).\n",
    "\n",
    "Now, we want to use Monte Carlo simulations to check some of the underlying assumptions of that test.  This is simlar to Homework 2, Problem 2."
   ]
  },
  {
   "cell_type": "markdown",
   "metadata": {},
   "source": [
    "## Import and Sort Data\n",
    "First, import modules for the whole lab and create useable arrays of data."
   ]
  },
  {
   "cell_type": "code",
   "execution_count": 1,
   "metadata": {},
   "outputs": [],
   "source": [
    "# Import all modules for the lab\n",
    "\n",
    "# To load data\n",
    "import pandas as pd\n",
    "\n",
    "# To plot\n",
    "import matplotlib.pyplot as plt\n",
    "import numpy as np\n",
    "\n",
    "%matplotlib inline\n",
    "\n",
    "import math\n",
    "import scipy.stats as st\n",
    "import statistics as stats\n",
    "from scipy.interpolate import interp1d"
   ]
  },
  {
   "cell_type": "code",
   "execution_count": 2,
   "metadata": {},
   "outputs": [
    {
     "data": {
      "text/html": [
       "<div>\n",
       "<style scoped>\n",
       "    .dataframe tbody tr th:only-of-type {\n",
       "        vertical-align: middle;\n",
       "    }\n",
       "\n",
       "    .dataframe tbody tr th {\n",
       "        vertical-align: top;\n",
       "    }\n",
       "\n",
       "    .dataframe thead th {\n",
       "        text-align: right;\n",
       "    }\n",
       "</style>\n",
       "<table border=\"1\" class=\"dataframe\">\n",
       "  <thead>\n",
       "    <tr style=\"text-align: right;\">\n",
       "      <th></th>\n",
       "      <th>date of peak</th>\n",
       "      <th>water year</th>\n",
       "      <th>peak value (cfs)</th>\n",
       "      <th>gage_ht (feet)</th>\n",
       "    </tr>\n",
       "  </thead>\n",
       "  <tbody>\n",
       "    <tr>\n",
       "      <td>0</td>\n",
       "      <td>1928-10-09</td>\n",
       "      <td>1929</td>\n",
       "      <td>18800</td>\n",
       "      <td>10.55</td>\n",
       "    </tr>\n",
       "    <tr>\n",
       "      <td>1</td>\n",
       "      <td>1930-02-05</td>\n",
       "      <td>1930</td>\n",
       "      <td>15800</td>\n",
       "      <td>10.44</td>\n",
       "    </tr>\n",
       "    <tr>\n",
       "      <td>2</td>\n",
       "      <td>1931-01-28</td>\n",
       "      <td>1931</td>\n",
       "      <td>35100</td>\n",
       "      <td>14.08</td>\n",
       "    </tr>\n",
       "    <tr>\n",
       "      <td>3</td>\n",
       "      <td>1932-02-26</td>\n",
       "      <td>1932</td>\n",
       "      <td>83300</td>\n",
       "      <td>20.70</td>\n",
       "    </tr>\n",
       "    <tr>\n",
       "      <td>4</td>\n",
       "      <td>1932-11-13</td>\n",
       "      <td>1933</td>\n",
       "      <td>72500</td>\n",
       "      <td>19.50</td>\n",
       "    </tr>\n",
       "    <tr>\n",
       "      <td>...</td>\n",
       "      <td>...</td>\n",
       "      <td>...</td>\n",
       "      <td>...</td>\n",
       "      <td>...</td>\n",
       "    </tr>\n",
       "    <tr>\n",
       "      <td>76</td>\n",
       "      <td>2005-01-18</td>\n",
       "      <td>2005</td>\n",
       "      <td>74600</td>\n",
       "      <td>19.55</td>\n",
       "    </tr>\n",
       "    <tr>\n",
       "      <td>77</td>\n",
       "      <td>2005-12-24</td>\n",
       "      <td>2006</td>\n",
       "      <td>33800</td>\n",
       "      <td>14.27</td>\n",
       "    </tr>\n",
       "    <tr>\n",
       "      <td>78</td>\n",
       "      <td>2006-11-06</td>\n",
       "      <td>2007</td>\n",
       "      <td>129000</td>\n",
       "      <td>24.51</td>\n",
       "    </tr>\n",
       "    <tr>\n",
       "      <td>79</td>\n",
       "      <td>2007-12-03</td>\n",
       "      <td>2008</td>\n",
       "      <td>51100</td>\n",
       "      <td>16.79</td>\n",
       "    </tr>\n",
       "    <tr>\n",
       "      <td>80</td>\n",
       "      <td>2009-01-08</td>\n",
       "      <td>2009</td>\n",
       "      <td>74000</td>\n",
       "      <td>19.48</td>\n",
       "    </tr>\n",
       "  </tbody>\n",
       "</table>\n",
       "<p>81 rows × 4 columns</p>\n",
       "</div>"
      ],
      "text/plain": [
       "   date of peak  water year  peak value (cfs)  gage_ht (feet)\n",
       "0    1928-10-09        1929             18800           10.55\n",
       "1    1930-02-05        1930             15800           10.44\n",
       "2    1931-01-28        1931             35100           14.08\n",
       "3    1932-02-26        1932             83300           20.70\n",
       "4    1932-11-13        1933             72500           19.50\n",
       "..          ...         ...               ...             ...\n",
       "76   2005-01-18        2005             74600           19.55\n",
       "77   2005-12-24        2006             33800           14.27\n",
       "78   2006-11-06        2007            129000           24.51\n",
       "79   2007-12-03        2008             51100           16.79\n",
       "80   2009-01-08        2009             74000           19.48\n",
       "\n",
       "[81 rows x 4 columns]"
      ]
     },
     "execution_count": 2,
     "metadata": {},
     "output_type": "execute_result"
    }
   ],
   "source": [
    "# Define the location of the .xlsx file.\n",
    "Skykomish_data_file = 'Skykomish_peak_flow_12134500_skykomish_river_near_gold_bar.xlsx'\n",
    "\n",
    "# Use pandas.read_excel() function to open this file.\n",
    "Skykomish_data = pd.read_excel(Skykomish_data_file)\n",
    "\n",
    "# Now we can see the dataset we loaded:\n",
    "Skykomish_data"
   ]
  },
  {
   "cell_type": "code",
   "execution_count": 3,
   "metadata": {},
   "outputs": [],
   "source": [
    "# Divide the data into the early period (before 1975) and late period\n",
    "# (after and including 1975). \n",
    "Skykomish_early = Skykomish_data[ Skykomish_data['water year'] < 1975 ] \n",
    "Skykomish_late = Skykomish_data[ Skykomish_data['water year'] >= 1975 ] "
   ]
  },
  {
   "cell_type": "markdown",
   "metadata": {},
   "source": [
    "## In Lab 2.1, we found that our data might have a log-normal distribution, but we weren't sure."
   ]
  },
  {
   "cell_type": "markdown",
   "metadata": {},
   "source": [
    "\n",
    "\n",
    "* In this lab, we will create quantile plots using the actual data and then use a random number generator to draw data from that distribution (as represented by the actual data in its quantile plot."
   ]
  },
  {
   "cell_type": "code",
   "execution_count": 4,
   "metadata": {},
   "outputs": [],
   "source": [
    "# Calculate quantiles of the early data\n",
    "\n",
    "# The function takes an array of data as an argument and returns the data\n",
    "# as an ordered array and the plotting position associated with each data point.\n",
    "def quantile_fn(data):\n",
    "\n",
    "    ordered_data = np.sort(data)\n",
    "    n = len(ordered_data)\n",
    "\n",
    "    rank = []\n",
    "    plotting_position = []\n",
    "    for i in range(n):\n",
    "        rank.append(i+1)\n",
    "        # Using the Cunnane plotting position.\n",
    "        plotting_position.append((rank[i]-.4)/(n+.2))\n",
    "        \n",
    "    return ordered_data, plotting_position\n"
   ]
  },
  {
   "cell_type": "code",
   "execution_count": 5,
   "metadata": {
    "scrolled": true
   },
   "outputs": [],
   "source": [
    "# Calculate CDF from entire record\n",
    "\n",
    "x_ordered, x_plotting = quantile_fn(Skykomish_data['peak value (cfs)'])\n",
    "x_CDF = [1 - i for i in x_plotting]\n",
    "\n",
    "x_ordered = np.flip(x_ordered, 0)\n",
    "\n",
    "# Extrapolate the ends so that the distribution goes all the way from 0 to 1\n",
    "xsort_first = x_ordered[0] + (x_ordered[0]-x_ordered[1]) * (1-x_CDF[0])/(x_CDF[0]-x_CDF[1])\n",
    "xsort_last = x_ordered[len(x_ordered)-1] - (x_ordered[len(x_ordered)-1] - x_ordered[len(x_ordered)-2]) * x_CDF[len(x_CDF)-1]/(x_CDF[len(x_CDF)-1]- x_CDF[len(x_CDF)-2])\n",
    "xsort = [xsort_first]\n",
    "xsort.extend(x_ordered)\n",
    "xsort.append(xsort_last)\n",
    "\n",
    "x_CDF.insert(0, 1)\n",
    "x_CDF.append(0)"
   ]
  },
  {
   "cell_type": "code",
   "execution_count": 6,
   "metadata": {},
   "outputs": [
    {
     "data": {
      "image/png": "[encoded data removed]",
      "text/plain": [
       "<Figure size 432x288 with 1 Axes>"
      ]
     },
     "metadata": {
      "needs_background": "light"
     },
     "output_type": "display_data"
    }
   ],
   "source": [
    "# Plot\n",
    "\n",
    "plt.figure()\n",
    "plt.plot(x_CDF, xsort)\n",
    "plt.ylabel('Peak Annual Discharge (cfs)')\n",
    "plt.xlabel('Cumulative Probability (or Probability of Non-Exceedance)')\n",
    "plt.title('Sauk Peak Flows, 1929-2009')\n",
    "plt.ticklabel_format(axis='y', style='sci', scilimits=(0,0))"
   ]
  },
  {
   "cell_type": "markdown",
   "metadata": {},
   "source": [
    "---\n",
    "Now, our goal is to generate random data, drawn from this distribution, and check if the distribution of the means of these random datasets is normally distributed.  \n",
    "\n",
    "Then we want to extract the mean value that falls at the 95th percentile of the distribution of the means.  There is only a 5% chance that a mean value would randomly fall above that if picked from the same distribution."
   ]
  },
  {
   "cell_type": "code",
   "execution_count": 7,
   "metadata": {},
   "outputs": [],
   "source": [
    "# first, what's the best function to use?\n",
    "np.random.random_sample?"
   ]
  },
  {
   "cell_type": "code",
   "execution_count": 8,
   "metadata": {},
   "outputs": [],
   "source": [
    "interp1d?"
   ]
  },
  {
   "cell_type": "code",
   "execution_count": 9,
   "metadata": {},
   "outputs": [
    {
     "name": "stdout",
     "output_type": "stream",
     "text": [
      "100\n"
     ]
    }
   ],
   "source": [
    "# Generate 100 sets of 20 random numbers\n",
    "\n",
    "q = np.random.random_sample((100, 20))\n",
    "\n",
    "# Map to the CDF of our data, this says to look up the x_CDF value and see what actual \n",
    "# streamflow value (xsort) corresponds to it\n",
    "f = interp1d(x_CDF, xsort) # create a function\n",
    "Q = f(q) # evaluate the function with random values q\n",
    "   \n",
    "\n",
    "# It's a good idea to check that you have the right axis here.  \n",
    "# We want 100 means of 20 numbers each, but if we look at the wrong axis of the matrix, \n",
    "# we could get 20 means of 100 numbers each.\n",
    "Q_mean = np.mean(Q, axis=1)\n",
    "\n",
    "#here is my printing to check\n",
    "print(len(Q_mean))\n",
    "\n",
    "Q_sd = np.std(Q, axis=1)"
   ]
  },
  {
   "cell_type": "code",
   "execution_count": 10,
   "metadata": {},
   "outputs": [],
   "source": [
    "## We can even plot our randomly generated CDFs if you uncomment this section\n",
    "#f, ax = plt.subplots(4,5,figsize=(10,7))\n",
    "#s=0\n",
    "#for r in range(0,4):\n",
    "#    for c in range(0,5):\n",
    "#        ax[r,c].plot(x_CDF, xsort, '-r') # plot the underlying CDF\n",
    "#        ax[r,c].plot(q[:,s],Q[:,s],'.k') # plot the random points we've mapped to the CDF\n",
    "#        s+=1\n",
    "#f.tight_layout() "
   ]
  },
  {
   "cell_type": "code",
   "execution_count": 11,
   "metadata": {},
   "outputs": [
    {
     "data": {
      "image/png": "[encoded data removed]",
      "text/plain": [
       "<Figure size 432x288 with 2 Axes>"
      ]
     },
     "metadata": {
      "needs_background": "light"
     },
     "output_type": "display_data"
    }
   ],
   "source": [
    "# Plot histograms\n",
    "\n",
    "fig, axs = plt.subplots(2, 1)\n",
    "fig.subplots_adjust(hspace=1)\n",
    "nbins = 15\n",
    "\n",
    "axs[0].hist(Q_mean, nbins, ec=\"black\")\n",
    "axs[0].set_title('Means')\n",
    "axs[0].set_xlabel('(a) Peak Flow (cfs)')\n",
    "axs[0].set_ylabel('Count')\n",
    "axs[0].ticklabel_format(axis='x', style='sci', scilimits=(0,0))\n",
    "\n",
    "axs[1].hist(Q_sd, nbins, ec=\"black\")\n",
    "axs[1].set_title('(b) Standard Deviations')\n",
    "axs[1].set_xlabel('Peak Flow (cfs)')\n",
    "axs[1].set_ylabel('Count')\n",
    "axs[1].ticklabel_format(axis='x', style='sci', scilimits=(0,0))"
   ]
  },
  {
   "cell_type": "markdown",
   "metadata": {},
   "source": [
    "#### Looking at the graph above, the means look roughly normally distributed, but the standard deviations do not look normally distributed.  This is what we would expect based on the Central Limit Theorem."
   ]
  },
  {
   "cell_type": "markdown",
   "metadata": {},
   "source": [
    "---\n",
    "#### Next, determine the mean peak flow value above which only 5% of a random set of 20 numbers from the basic distribution would fall into.\n",
    "To do this, take the 100 Q_mean values you just calculated, and use the Cunnane-quantile method to plot them on a CDF.  Then, look up what Q_mean value corresponds to the 0.95 value on the CDF."
   ]
  },
  {
   "cell_type": "code",
   "execution_count": 12,
   "metadata": {},
   "outputs": [
    {
     "data": {
      "text/plain": [
       "<matplotlib.legend.Legend at 0x2097e36bef0>"
      ]
     },
     "execution_count": 12,
     "metadata": {},
     "output_type": "execute_result"
    },
    {
     "data": {
      "image/png": "[encoded data removed]",
      "text/plain": [
       "<Figure size 432x288 with 1 Axes>"
      ]
     },
     "metadata": {
      "needs_background": "light"
     },
     "output_type": "display_data"
    }
   ],
   "source": [
    "Qmean_ordered, Qmean_plotting = quantile_fn(Q_mean)\n",
    "\n",
    "plt.figure()\n",
    "plt.plot(Qmean_ordered, Qmean_plotting,label='')\n",
    "plt.xlabel('Mean Peak Annual Discharge (cfs)')\n",
    "plt.ylabel('Cumulative Probability \\n (or Probability of Non-Exceedance)')\n",
    "plt.title('Mean Peak Flows drawn from Skykomish-based Distribution')\n",
    "plt.ticklabel_format(axis='x', style='sci', scilimits=(0,0))\n",
    "plt.axhline(0.95,color='red',label='95%')\n",
    "plt.legend()\n"
   ]
  },
  {
   "cell_type": "code",
   "execution_count": 13,
   "metadata": {},
   "outputs": [
    {
     "name": "stdout",
     "output_type": "stream",
     "text": [
      "53781.673729938964\n"
     ]
    }
   ],
   "source": [
    "# Now use the interpolation function to \"look-up\" what Q-value that is at the intersection of\n",
    "# our two lines in the graph above.\n",
    "f2 = interp1d(Qmean_plotting, Qmean_ordered)\n",
    "print(f2(0.95))"
   ]
  },
  {
   "cell_type": "markdown",
   "metadata": {},
   "source": [
    "## What have we learned from this exercise?\n",
    "#### By brute force, we can see that there is only a 5% chance that 20 numbers drawn randomly from this specific distribution would be larger than the number printed above.  Therefore, if we had 20 observed values and calculated their mean, we would be 95% confidence that a mean of this value or larger actually came from a true distribution with a larger mean than that of our original distribution."
   ]
  },
  {
   "cell_type": "code",
   "execution_count": null,
   "metadata": {},
   "outputs": [],
   "source": []
  }
 ],
 "metadata": {
  "kernelspec": {
   "display_name": "Python 3",
   "language": "python",
   "name": "python3"
  },
  "language_info": {
   "codemirror_mode": {
    "name": "ipython",
    "version": 3
   },
   "file_extension": ".py",
   "mimetype": "text/x-python",
   "name": "python",
   "nbconvert_exporter": "python",
   "pygments_lexer": "ipython3",
   "version": "3.6.7"
  }
 },
 "nbformat": 4,
 "nbformat_minor": 2
}
