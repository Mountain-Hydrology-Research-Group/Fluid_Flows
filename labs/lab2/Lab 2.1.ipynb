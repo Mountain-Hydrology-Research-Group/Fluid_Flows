{
 "cells": [
  {
   "cell_type": "markdown",
   "metadata": {},
   "source": [
    "# Lab 2.0: Hypothesis Testing\n",
    "\n",
    "Question: Consider the peak flow time series for Skykomish River. Postulating a change in flood statistics around 1975, test for statistical significance of the observed change in the mean annual flood. \n",
    "\n",
    "Use a two-sample test, with alpha=0.05 (i.e. 95% confidence) and the z-distribution to define the rejection region (why is this appropriate?)."
   ]
  },
  {
   "cell_type": "markdown",
   "metadata": {},
   "source": [
    "## Import and Sort Data\n",
    "First, import modules for the whole lab and create useable arrays of data."
   ]
  },
  {
   "cell_type": "code",
   "execution_count": 1,
   "metadata": {},
   "outputs": [],
   "source": [
    "# Import all modules for the lab\n",
    "\n",
    "# To load data\n",
    "import pandas as pd\n",
    "\n",
    "# To plot\n",
    "import matplotlib.pyplot as plt\n",
    "import numpy as np\n",
    "\n",
    "import math\n",
    "import scipy.stats as st\n",
    "import statistics as stats\n",
    "from scipy.interpolate import interp1d\n",
    "\n",
    "%matplotlib inline\n",
    "\n",
    "# Module with normal gaussian curve function.\n",
    "# Since we don't need the entire scipy.stats library, we add \"import norm\" \n",
    "# to only import the norm function.\n",
    "from scipy.stats import norm"
   ]
  },
  {
   "cell_type": "code",
   "execution_count": 2,
   "metadata": {},
   "outputs": [
    {
     "data": {
      "text/html": [
       "<div>\n",
       "<style scoped>\n",
       "    .dataframe tbody tr th:only-of-type {\n",
       "        vertical-align: middle;\n",
       "    }\n",
       "\n",
       "    .dataframe tbody tr th {\n",
       "        vertical-align: top;\n",
       "    }\n",
       "\n",
       "    .dataframe thead th {\n",
       "        text-align: right;\n",
       "    }\n",
       "</style>\n",
       "<table border=\"1\" class=\"dataframe\">\n",
       "  <thead>\n",
       "    <tr style=\"text-align: right;\">\n",
       "      <th></th>\n",
       "      <th>date of peak</th>\n",
       "      <th>water year</th>\n",
       "      <th>peak value (cfs)</th>\n",
       "      <th>gage_ht (feet)</th>\n",
       "    </tr>\n",
       "  </thead>\n",
       "  <tbody>\n",
       "    <tr>\n",
       "      <td>0</td>\n",
       "      <td>1928-10-09</td>\n",
       "      <td>1929</td>\n",
       "      <td>18800</td>\n",
       "      <td>10.55</td>\n",
       "    </tr>\n",
       "    <tr>\n",
       "      <td>1</td>\n",
       "      <td>1930-02-05</td>\n",
       "      <td>1930</td>\n",
       "      <td>15800</td>\n",
       "      <td>10.44</td>\n",
       "    </tr>\n",
       "    <tr>\n",
       "      <td>2</td>\n",
       "      <td>1931-01-28</td>\n",
       "      <td>1931</td>\n",
       "      <td>35100</td>\n",
       "      <td>14.08</td>\n",
       "    </tr>\n",
       "    <tr>\n",
       "      <td>3</td>\n",
       "      <td>1932-02-26</td>\n",
       "      <td>1932</td>\n",
       "      <td>83300</td>\n",
       "      <td>20.70</td>\n",
       "    </tr>\n",
       "    <tr>\n",
       "      <td>4</td>\n",
       "      <td>1932-11-13</td>\n",
       "      <td>1933</td>\n",
       "      <td>72500</td>\n",
       "      <td>19.50</td>\n",
       "    </tr>\n",
       "    <tr>\n",
       "      <td>...</td>\n",
       "      <td>...</td>\n",
       "      <td>...</td>\n",
       "      <td>...</td>\n",
       "      <td>...</td>\n",
       "    </tr>\n",
       "    <tr>\n",
       "      <td>76</td>\n",
       "      <td>2005-01-18</td>\n",
       "      <td>2005</td>\n",
       "      <td>74600</td>\n",
       "      <td>19.55</td>\n",
       "    </tr>\n",
       "    <tr>\n",
       "      <td>77</td>\n",
       "      <td>2005-12-24</td>\n",
       "      <td>2006</td>\n",
       "      <td>33800</td>\n",
       "      <td>14.27</td>\n",
       "    </tr>\n",
       "    <tr>\n",
       "      <td>78</td>\n",
       "      <td>2006-11-06</td>\n",
       "      <td>2007</td>\n",
       "      <td>129000</td>\n",
       "      <td>24.51</td>\n",
       "    </tr>\n",
       "    <tr>\n",
       "      <td>79</td>\n",
       "      <td>2007-12-03</td>\n",
       "      <td>2008</td>\n",
       "      <td>51100</td>\n",
       "      <td>16.79</td>\n",
       "    </tr>\n",
       "    <tr>\n",
       "      <td>80</td>\n",
       "      <td>2009-01-08</td>\n",
       "      <td>2009</td>\n",
       "      <td>74000</td>\n",
       "      <td>19.48</td>\n",
       "    </tr>\n",
       "  </tbody>\n",
       "</table>\n",
       "<p>81 rows × 4 columns</p>\n",
       "</div>"
      ],
      "text/plain": [
       "   date of peak  water year  peak value (cfs)  gage_ht (feet)\n",
       "0    1928-10-09        1929             18800           10.55\n",
       "1    1930-02-05        1930             15800           10.44\n",
       "2    1931-01-28        1931             35100           14.08\n",
       "3    1932-02-26        1932             83300           20.70\n",
       "4    1932-11-13        1933             72500           19.50\n",
       "..          ...         ...               ...             ...\n",
       "76   2005-01-18        2005             74600           19.55\n",
       "77   2005-12-24        2006             33800           14.27\n",
       "78   2006-11-06        2007            129000           24.51\n",
       "79   2007-12-03        2008             51100           16.79\n",
       "80   2009-01-08        2009             74000           19.48\n",
       "\n",
       "[81 rows x 4 columns]"
      ]
     },
     "execution_count": 2,
     "metadata": {},
     "output_type": "execute_result"
    }
   ],
   "source": [
    "# Define the location of the .xlsx file.\n",
    "Skykomish_data_file = 'Skykomish_peak_flow_12134500_skykomish_river_near_gold_bar.xlsx'\n",
    "\n",
    "# Use pandas.read_excel() function to open this file.\n",
    "Skykomish_data = pd.read_excel(Skykomish_data_file)\n",
    "\n",
    "# Now we can see the dataset we loaded:\n",
    "Skykomish_data"
   ]
  },
  {
   "cell_type": "code",
   "execution_count": 3,
   "metadata": {},
   "outputs": [],
   "source": [
    "# Divide the data into the early period (before 1975) and late period\n",
    "# (after and including 1975). \n",
    "Skykomish_early = Skykomish_data[ Skykomish_data['water year'] < 1975 ] \n",
    "Skykomish_late = Skykomish_data[ Skykomish_data['water year'] >= 1975 ] "
   ]
  },
  {
   "cell_type": "markdown",
   "metadata": {},
   "source": [
    "## Find Distribution\n",
    "Next, what kind of distribution does the data have?"
   ]
  },
  {
   "cell_type": "code",
   "execution_count": 12,
   "metadata": {},
   "outputs": [
    {
     "data": {
      "text/plain": [
       "(10000.0, 140000.0)"
      ]
     },
     "execution_count": 12,
     "metadata": {},
     "output_type": "execute_result"
    },
    {
     "data": {
      "image/png": "[encoded data removed]",
      "text/plain": [
       "<Figure size 432x288 with 2 Axes>"
      ]
     },
     "metadata": {
      "needs_background": "light"
     },
     "output_type": "display_data"
    }
   ],
   "source": [
    "# Make a histogram for each period\n",
    "\n",
    "bin_width = 0.5e4 # bin width in cfs\n",
    "\n",
    "# Create a figure with subplots\n",
    "fig1, axs = plt.subplots(2, 1)\n",
    "fig1.subplots_adjust(hspace=1)\n",
    "fig1.suptitle('(Fig. 1) Skykomish Peak Flow Histograms')\n",
    "\n",
    "# set bin number so that intervals are equal in these two plots\n",
    "nbins = int(( np.max(Skykomish_early['peak value (cfs)']) - np.min(Skykomish_early['peak value (cfs)']) ) / bin_width )\n",
    "axs[0].hist(Skykomish_early['peak value (cfs)'], nbins, ec=\"black\")\n",
    "axs[0].set_title('(a) Up to 1975')\n",
    "axs[0].set_xlabel('Peak Flow (cfs)')\n",
    "axs[0].set_ylabel('Number of Occurences')\n",
    "axs[0].ticklabel_format(axis='x', style='sci', scilimits=(0,0))\n",
    "axs[0].set_xlim((1e4,1.4e5))\n",
    "\n",
    "# set bin number so that intervals are equal in these two plots\n",
    "nbins = int(( np.max(Skykomish_late['peak value (cfs)']) - np.min(Skykomish_late['peak value (cfs)']) ) / bin_width )\n",
    "axs[1].hist(Skykomish_late['peak value (cfs)'], nbins, ec=\"black\")\n",
    "axs[1].set_title('(b) 1975 and Later')\n",
    "axs[1].set_xlabel('Peak Flow (cfs)')\n",
    "axs[1].set_ylabel('Number of Occurences')\n",
    "axs[1].ticklabel_format(axis='x', style='sci', scilimits=(0,0))\n",
    "axs[1].set_xlim((1e4,1.4e5))"
   ]
  },
  {
   "cell_type": "markdown",
   "metadata": {},
   "source": [
    "Check which distribution might fit the data best by comparing this distribution of data to data you made up with a specified distribution.\n",
    "\n",
    "* Try plotting theoretical cdfs with the distributions\n",
    "you’re considering.\n",
    "\n",
    "* Then, try generating a set of numbers from a\n",
    "uniform distribution and a lognormal distribution\n",
    "with the same mean and standard deviation as\n",
    "the data (based on the histograms, the data does not look normal, but we can look at this as well).\n",
    "\n",
    "* Create quantile plots of your generated numbers\n",
    "to see how well they compare to your data and\n",
    "your theoretical cdfs."
   ]
  },
  {
   "cell_type": "code",
   "execution_count": 13,
   "metadata": {},
   "outputs": [],
   "source": [
    "# Calculate CDF of the early data\n",
    "\n",
    "# The function takes an array of data as an argument and returns an array of \n",
    "# evenly spaced intervals for the range of the data, the mean, and standard \n",
    "# deviation.\n",
    "def make_cdf(data):\n",
    "    \n",
    "    mean = stats.mean(data)\n",
    "    sd = stats.stdev(data)\n",
    "    r = int(np.max(data)-np.min(data))\n",
    "    # this counts the nunber of integers from the highest to the lowest value\n",
    "    \n",
    "    return np.linspace(np.min(data), np.max(data), r), mean, sd\n",
    "\n",
    "# run this function on the early period of peak flow values\n",
    "range_early, mean_early, sd_early = make_cdf(Skykomish_early['peak value (cfs)'])"
   ]
  },
  {
   "cell_type": "code",
   "execution_count": 14,
   "metadata": {},
   "outputs": [],
   "source": [
    "# Calculate quantiles of the early data\n",
    "\n",
    "# The function takes an array of data as an argument and returns the data\n",
    "# as an ordered array and the plotting position associated with each data point.\n",
    "def quantile_fn(data):\n",
    "\n",
    "    ordered_data = np.sort(data)\n",
    "    n = len(ordered_data)\n",
    "\n",
    "    rank = []\n",
    "    plotting_position = []\n",
    "    for i in range(n):\n",
    "        rank.append(i+1)\n",
    "        # Using the Cunnane plotting position.\n",
    "        plotting_position.append((rank[i]-.4)/(n+.2))\n",
    "        \n",
    "    return ordered_data, plotting_position\n",
    "\n",
    "\n",
    "# run this function on the early period of peak flow values\n",
    "ordered_early, plotting_early = quantile_fn(Skykomish_early['peak value (cfs)'])"
   ]
  },
  {
   "cell_type": "code",
   "execution_count": 25,
   "metadata": {},
   "outputs": [
    {
     "data": {
      "text/plain": [
       "<matplotlib.legend.Legend at 0x1ceac95e3c8>"
      ]
     },
     "execution_count": 25,
     "metadata": {},
     "output_type": "execute_result"
    },
    {
     "data": {
      "image/png": "[encoded data removed]",
      "text/plain": [
       "<Figure size 432x288 with 1 Axes>"
      ]
     },
     "metadata": {
      "needs_background": "light"
     },
     "output_type": "display_data"
    }
   ],
   "source": [
    "# Now, make a plot of these\n",
    "plt.figure(2)\n",
    "plt.plot(ordered_early, plotting_early, label=\"Quantile Plot early period\")\n",
    "#plt.plot(norm.cdf(ordered_Skykomish, mean, sd), color='orange', label='Normal Distribution CDF Plot')\n",
    "plt.plot(range_early,norm.cdf(range_early, mean_early, sd_early), '--', label='Normal Distr CDF Plot early period')\n",
    "plt.xlabel('Peak Flows (cfs)')\n",
    "plt.ylabel('Cumulative Frequency (Prob of being <= to value)')\n",
    "plt.legend(loc=\"best\")"
   ]
  },
  {
   "cell_type": "markdown",
   "metadata": {},
   "source": [
    "The above graph definitely looks like the data are _not_ normally distributed."
   ]
  },
  {
   "cell_type": "markdown",
   "metadata": {},
   "source": [
    "### Lognormal Distribution"
   ]
  },
  {
   "cell_type": "code",
   "execution_count": 22,
   "metadata": {},
   "outputs": [],
   "source": [
    "# Try lognormal distribution for the early period\n",
    "\n",
    "mu_early = math.log(mean_early**2 / math.sqrt(mean_early**2 + sd_early**2))\n",
    "sigma_early = math.sqrt(math.log((mean_early**2 + sd_early**2) / (mean_early**2)))\n",
    "size = Skykomish_early['peak value (cfs)'].size\n",
    "\n",
    "early_lognormal = np.random.lognormal(mu_early, sigma_early, size)"
   ]
  },
  {
   "cell_type": "code",
   "execution_count": 24,
   "metadata": {},
   "outputs": [
    {
     "data": {
      "text/plain": [
       "<matplotlib.legend.Legend at 0x1ceac88f898>"
      ]
     },
     "execution_count": 24,
     "metadata": {},
     "output_type": "execute_result"
    },
    {
     "data": {
      "image/png": "[encoded data removed]",
      "text/plain": [
       "<Figure size 432x288 with 1 Axes>"
      ]
     },
     "metadata": {
      "needs_background": "light"
     },
     "output_type": "display_data"
    }
   ],
   "source": [
    "# Plot and compare the theoretical CDF, quantile plot of data, and quantile plot\n",
    "# of generated lognormal data\n",
    "\n",
    "ordered_lognormal, plotting_lognormal = quantile_fn(early_lognormal)\n",
    "\n",
    "plt.figure(3)\n",
    "\n",
    "plt.plot(range_early, st.norm.cdf(range_early, mean_early, sd_early), '--', label='Theoretical CDF')\n",
    "plt.plot(ordered_early, plotting_early, color='orange', label='Quantile Mapping of Real Data')\n",
    "plt.plot(ordered_lognormal, plotting_lognormal, color='red', label='Quantile Mapping of Generated Numbers')\n",
    "\n",
    "plt.title('(Fig. 3) Comparing Skykomish Early Period to Lognormal Distribution')\n",
    "plt.xlabel('Peak Flow (cfs)')\n",
    "plt.ylabel('Probability of Non-Exceedance')\n",
    "plt.ticklabel_format(axis='x', style='sci', scilimits=(0,0))\n",
    "plt.legend(loc=\"best\")"
   ]
  },
  {
   "cell_type": "markdown",
   "metadata": {},
   "source": [
    "Lognormal looks like a fair approximation, although it may not be exactly right."
   ]
  },
  {
   "cell_type": "markdown",
   "metadata": {},
   "source": [
    "## Z-Distribution\n",
    "### Return to our question, what are we trying to do?  We are postulating (making a hypothesis) that there was a change in the mean flood statistics after 1975, and we want to test whether this is true.  Where do we start?\n",
    "First, we need to create a null and an alternative hypothesis.  We were told to use a two sample test, and to set $\\alpha$ at 5%.\n",
    "\n",
    "$H_0: \\mu_{early} = \\mu_{late}$\n",
    "\n",
    "$H_1: \\mu_{late} > \\mu_{early}$\n",
    "\n",
    "Note that I have written a one-sided test here.  We think that either the mean flood increased or it didn't change; we do not think the mean flood decreased.  This might be chosen because we have some physical reason to think it increased (maybe it's raining at higher elevations now when it used to be snowing) or because we have some practical reason for the test to matter in this particular direction (maybe we will change flood zoning and/or reservoir levels if the mean flood has increased but don't care at all if it decreased)."
   ]
  },
  {
   "cell_type": "markdown",
   "metadata": {},
   "source": [
    "### But which test should we use?  Is the z-distribution valid?\n",
    "Remember, the z-distribution refers to the standard-normal distribution.\n",
    "From our work above, we know that our data are _not_ normally distributed.\n",
    "However, the central limit theorem states, \"If a sample of n values is extracted at random from a population with mean  μ and standard deviation σ, and n > 30, then the means of these samples are approximately normally distributed\"\n",
    "\n",
    "#### Remember, the means are normally distributed even if the data themselves are not normally distributed."
   ]
  },
  {
   "cell_type": "code",
   "execution_count": 26,
   "metadata": {},
   "outputs": [
    {
     "name": "stdout",
     "output_type": "stream",
     "text": [
      "46\n",
      "35\n"
     ]
    }
   ],
   "source": [
    "# Check that we have a large enough sample size (n>30)\n",
    "n = len(Skykomish_early['peak value (cfs)'])\n",
    "m = len(Skykomish_late['peak value (cfs)'])\n",
    "print(n)\n",
    "print(m)"
   ]
  },
  {
   "cell_type": "code",
   "execution_count": 27,
   "metadata": {},
   "outputs": [
    {
     "name": "stdout",
     "output_type": "stream",
     "text": [
      "z_alpha =\n",
      "1.6448536269514722\n",
      "z_test =\n",
      "2.797962599761196\n",
      "p = \n",
      "0.0025713033496177484\n"
     ]
    }
   ],
   "source": [
    "# We're okay, both are longer than 30, so Calculate the z-test, p-value\n",
    "\n",
    "# if alpha is set at 0.5, the confidence is 1-alpha:\n",
    "conf = 0.95\n",
    "\n",
    "# Out null hypothesis is no change, so mu_late - mu_early = 0\n",
    "delta_0 = 0\n",
    "\n",
    "# We determine which value in the z-distribution corresponds to 0.95 in the cdf\n",
    "z_alpha = st.norm.ppf(conf)\n",
    "print(\"z_alpha =\") \n",
    "print(z_alpha)\n",
    "\n",
    "mean1 = stats.mean(Skykomish_early['peak value (cfs)'])\n",
    "mean2 = stats.mean(Skykomish_late['peak value (cfs)'])\n",
    "\n",
    "sd1 = stats.stdev(Skykomish_early['peak value (cfs)'])\n",
    "sd2 = stats.stdev(Skykomish_late['peak value (cfs)'])\n",
    "\n",
    "pooled_sd = math.sqrt(sd1**2/m + sd2**2/n)\n",
    "\n",
    "ztest = (mean2 - mean1 - delta_0)/pooled_sd\n",
    "\n",
    "print(\"z_test =\") \n",
    "print(ztest)\n",
    "p = 1 - st.norm.cdf(ztest)\n",
    "print(\"p = \")\n",
    "print(p)"
   ]
  },
  {
   "cell_type": "code",
   "execution_count": 28,
   "metadata": {},
   "outputs": [
    {
     "data": {
      "text/plain": [
       "<matplotlib.legend.Legend at 0x1ceac7a2208>"
      ]
     },
     "execution_count": 28,
     "metadata": {},
     "output_type": "execute_result"
    },
    {
     "data": {
      "image/png": "[encoded data removed]",
      "text/plain": [
       "<Figure size 432x288 with 1 Axes>"
      ]
     },
     "metadata": {
      "needs_background": "light"
     },
     "output_type": "display_data"
    }
   ],
   "source": [
    "# Plot the results\n",
    "\n",
    "plt.figure()\n",
    "\n",
    "x = np.linspace(-4, 4, num=160)\n",
    "x = [i * pooled_sd for i in x]\n",
    "\n",
    "plt.plot(x, st.norm.pdf(x, 0, pooled_sd), label='Null PDF: (x-bar - y-bar) = 0')\n",
    "plt.axvline(z_alpha*pooled_sd, color='black', label='Z_alpha')\n",
    "plt.axvline(ztest*pooled_sd, color='red', label='Z_test')\n",
    "plt.xlabel('(x-bar - y-bar) [cfs]')\n",
    "plt.ylabel('PDF')\n",
    "plt.ticklabel_format(axis='x', style='sci', scilimits=(0,0))\n",
    "plt.ticklabel_format(axis='y', style='sci', scilimits=(0,0))\n",
    "plt.ylim(0, 9e-5)\n",
    "plt.legend(loc='best')"
   ]
  },
  {
   "cell_type": "markdown",
   "metadata": {},
   "source": [
    "### How would the estimate of p change if the null hypothesis is that the difference in the means is equal to 10% of the mean of the early period, and the alternative hypothesis is that greater than a 10% change occurred?"
   ]
  },
  {
   "cell_type": "code",
   "execution_count": 29,
   "metadata": {
    "scrolled": true
   },
   "outputs": [
    {
     "name": "stdout",
     "output_type": "stream",
     "text": [
      "12109.335493586073 1.9828654179778578 9760.838509316765\n"
     ]
    }
   ],
   "source": [
    "# Calculate the z-test, p-value\n",
    "\n",
    "# Now, our change is not 0.  Now we think mu_late - mu_early = 0.10*mu_early\n",
    "delta = .1 * mean1\n",
    "\n",
    "z_alpha_2 = st.norm.ppf(conf, delta, pooled_sd)\n",
    "# Note that this one is different from the one aboee because the delta and sd are\n",
    "# included in the function\n",
    "\n",
    "ztest2 = (mean2 - mean1 - delta)/pooled_sd\n",
    "\n",
    "p_2 = 1 - st.norm.cdf(ztest)\n",
    "\n",
    "print(z_alpha_2, ztest2, ztest2*pooled_sd)"
   ]
  },
  {
   "cell_type": "code",
   "execution_count": 30,
   "metadata": {},
   "outputs": [
    {
     "data": {
      "text/plain": [
       "<matplotlib.legend.Legend at 0x1ceac993358>"
      ]
     },
     "execution_count": 30,
     "metadata": {},
     "output_type": "execute_result"
    },
    {
     "data": {
      "image/png": "[encoded data removed]",
      "text/plain": [
       "<Figure size 432x288 with 1 Axes>"
      ]
     },
     "metadata": {
      "needs_background": "light"
     },
     "output_type": "display_data"
    }
   ],
   "source": [
    "# Plot the results\n",
    "\n",
    "plt.figure()\n",
    "\n",
    "plt.plot(x, st.norm.pdf(x, delta, pooled_sd), label='Null PDF: (x-bar - y-bar) = 0.1*x-bar')\n",
    "plt.axvline(z_alpha_2, color='black', label='Z_alpha')\n",
    "plt.axvline(ztest2*pooled_sd, color='red', label='Z_test')\n",
    "plt.xlabel('(x-bar - y-bar) [cfs]')\n",
    "plt.ylabel('PDF')\n",
    "plt.ticklabel_format(axis='x', style='sci', scilimits=(0,0))\n",
    "plt.ticklabel_format(axis='y', style='sci', scilimits=(0,0))\n",
    "plt.ylim(0, 9e-5)\n",
    "plt.legend(loc='best')"
   ]
  },
  {
   "cell_type": "markdown",
   "metadata": {},
   "source": [
    "## So what happened up above?\n",
    "We created a more stringent test.  Say, for example, that we only would raise levees if the mean flood (defined by the annual peak flow) increased by more than 10%.  While we are 95% sure that there is a change greater than 0; we are _not_ 95% sure that the change is greater than 10% of the early period mean."
   ]
  },
  {
   "cell_type": "code",
   "execution_count": null,
   "metadata": {
    "collapsed": true
   },
   "outputs": [],
   "source": []
  }
 ],
 "metadata": {
  "kernelspec": {
   "display_name": "Python 3",
   "language": "python",
   "name": "python3"
  },
  "language_info": {
   "codemirror_mode": {
    "name": "ipython",
    "version": 3
   },
   "file_extension": ".py",
   "mimetype": "text/x-python",
   "name": "python",
   "nbconvert_exporter": "python",
   "pygments_lexer": "ipython3",
   "version": "3.6.7"
  }
 },
 "nbformat": 4,
 "nbformat_minor": 2
}
