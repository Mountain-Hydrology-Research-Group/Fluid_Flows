{
 "cells": [
  {
   "cell_type": "markdown",
   "metadata": {
    "scrolled": true
   },
   "source": [
    "# Lab 1.1"
   ]
  },
  {
   "cell_type": "markdown",
   "metadata": {},
   "source": [
    "## Section 1: Running Code in Jupyter Notebook\n",
    "This lab is an example of code written in a Jupyter Notebook. You'll notice that each piece of code lives in a cell. Cells structure the notebook and allow you to run each cell individually. To run the code in a cell, press Shift and Enter or click the Run button above. To run multiple cells at once, choose one of the options in the Cell tab above. After running the code in a cell, its output will appear below it. To practice, try changing and running the code in the cell below."
   ]
  },
  {
   "cell_type": "code",
   "execution_count": 4,
   "metadata": {},
   "outputs": [
    {
     "data": {
      "text/plain": [
       "11"
      ]
     },
     "execution_count": 4,
     "metadata": {},
     "output_type": "execute_result"
    }
   ],
   "source": [
    "3 + 8"
   ]
  },
  {
   "cell_type": "markdown",
   "metadata": {},
   "source": [
    "To create new cells, click the + button in the upper left hand corner or by selecting an option from the Insert tab above. Try inserting a cell below and practice running a line of code that will output the number 6."
   ]
  },
  {
   "cell_type": "markdown",
   "metadata": {},
   "source": [
    "Stop running code by pressing the Stop button next to Run. Use the Help tab if you need help with your notebook. Remember to save your notebooks by clicking the save button in the upper left hand corner. Also, when you create a new notebook, remember to name it by clicking on the title above next to the \"jupyter\" logo."
   ]
  },
  {
   "cell_type": "markdown",
   "metadata": {},
   "source": [
    "## Section 2: Python Basics"
   ]
  },
  {
   "cell_type": "markdown",
   "metadata": {},
   "source": [
    "This section will introduce Python coding. For more information or practice, see this tutorial: http://swcarpentry.github.io/python-novice-gapminder/."
   ]
  },
  {
   "cell_type": "markdown",
   "metadata": {},
   "source": [
    "###  Modules and Imports\n",
    "First, we will import the modules for the code to use. These modules include built-in functions. We will call these functions later by writing \"module.function(arguments)\". This is telling the computer to use the function from the module with the given arguments, or inputs. See the example below:"
   ]
  },
  {
   "cell_type": "code",
   "execution_count": 5,
   "metadata": {},
   "outputs": [
    {
     "data": {
      "text/plain": [
       "6.0"
      ]
     },
     "execution_count": 5,
     "metadata": {},
     "output_type": "execute_result"
    }
   ],
   "source": [
    "# First, import the module that has the functions needed.\n",
    "import math\n",
    "\n",
    "# Next, call the function from the module with given argument(s).\n",
    "# For this example, I used the sqrt function from the math module, \n",
    "# which returns the square root of a number.\n",
    "math.sqrt(36)"
   ]
  },
  {
   "cell_type": "markdown",
   "metadata": {},
   "source": [
    "For information on each module and function, including what they return or their arguments, look at the documentation at https://docs.python.org/3/. Use the search bar to find information about any module or function.\n",
    "\n",
    "Also, notice the comments in the code above. The comments begin with a # symbol which means that the line will not be recognized and run as code by the computer. Rather, they serve as communication about the piece of code to another person reading it. When commenting code, too much is better than not enough. Comments will help you debug code and troubleshoot issues more quickly and effectively."
   ]
  },
  {
   "cell_type": "markdown",
   "metadata": {},
   "source": [
    "### Variables and Data Types\n",
    "Next, we will define some variables. Variables store values and can be changed by code. They can be integers, floats (numbers that can have a decimal), or strings (character string, written in quotation marks). When naming variables, use clarity over cleverness. Name them logically so that you or another person can recognize their function in your code."
   ]
  },
  {
   "cell_type": "code",
   "execution_count": 11,
   "metadata": {},
   "outputs": [],
   "source": [
    "# int variable\n",
    "y = -38\n",
    "\n",
    "# float variables\n",
    "z = 9.\n",
    "k = -2.89\n",
    "\n",
    "# string variables\n",
    "year = \"2019\"\n",
    "lab_title = \"Lab 1.1\""
   ]
  },
  {
   "cell_type": "markdown",
   "metadata": {},
   "source": [
    "To display these variables, use the print() function."
   ]
  },
  {
   "cell_type": "code",
   "execution_count": 12,
   "metadata": {},
   "outputs": [
    {
     "name": "stdout",
     "output_type": "stream",
     "text": [
      "-38\n",
      "-31\n",
      "9.0\n",
      "-2.89\n",
      "Hello world\n"
     ]
    }
   ],
   "source": [
    "print(y)\n",
    "\n",
    "print(7+y)\n",
    "\n",
    "print(z)\n",
    "\n",
    "print(k)\n",
    "\n",
    "print(\"Hello world\")"
   ]
  },
  {
   "cell_type": "markdown",
   "metadata": {},
   "source": [
    "To see the data type of each variable, use the type() function.\n",
    "Here we use print() to print out the result of the type() function."
   ]
  },
  {
   "cell_type": "code",
   "execution_count": 13,
   "metadata": {},
   "outputs": [
    {
     "name": "stdout",
     "output_type": "stream",
     "text": [
      "<class 'int'>\n",
      "<class 'int'>\n",
      "<class 'float'>\n",
      "<class 'float'>\n",
      "<class 'str'>\n"
     ]
    }
   ],
   "source": [
    "print(type(y))\n",
    "\n",
    "print(type(7+y))\n",
    "\n",
    "print(type(z))\n",
    "\n",
    "print(type(k))\n",
    "\n",
    "print(type(\"Hello world\"))"
   ]
  },
  {
   "cell_type": "markdown",
   "metadata": {},
   "source": [
    "There are also lists of variables. Lists have to have the same type of variable."
   ]
  },
  {
   "cell_type": "code",
   "execution_count": 8,
   "metadata": {
    "scrolled": true
   },
   "outputs": [
    {
     "name": "stdout",
     "output_type": "stream",
     "text": [
      "2\n",
      "[2, 8, 9]\n",
      "[2, 8, 10]\n"
     ]
    }
   ],
   "source": [
    "# Define lists\n",
    "list_of_names = [\"Bob\" \"Sara\" \"Alex\"]\n",
    "list_of_numbers = [2, 8, 9]\n",
    "\n",
    "# To access a certain part of a list, use name_of_list[index].\n",
    "# The index starts at 0, so the first component of a list has index 0.\n",
    "print(list_of_numbers[0])\n",
    "print(list_of_numbers)\n",
    "\n",
    "# Change one or more parts of a list using the index.\n",
    "list_of_numbers[2] = 10\n",
    "\n",
    "print(list_of_numbers)"
   ]
  },
  {
   "cell_type": "markdown",
   "metadata": {},
   "source": [
    "### For Loops and If Statements\n",
    "For loops use an index to iterate through a section of code multiple times."
   ]
  },
  {
   "cell_type": "code",
   "execution_count": 9,
   "metadata": {},
   "outputs": [
    {
     "name": "stdout",
     "output_type": "stream",
     "text": [
      "BobSaraAlex\n",
      "3\n",
      "4\n",
      "5\n",
      "6\n",
      "BobSaraAlex\n",
      "3\n",
      "4\n",
      "5\n",
      "6\n",
      "Done printing\n"
     ]
    }
   ],
   "source": [
    "# Use for loops to go through a list.\n",
    "# This for loop prints out every string in the array list_of_names\n",
    "for name in list_of_names:\n",
    "    print(name)\n",
    "    \n",
    "# Use the range function for the loop index.\n",
    "# This for loop prints every number from 3 to 7.\n",
    "for i in range(3,7):\n",
    "    print(i)\n",
    "    \n",
    "# Use a numerical index and the range function to go through a list using \n",
    "# the len() function. \n",
    "for i in range(len(list_of_names)):\n",
    "    print(list_of_names[i])\n",
    "    \n",
    "# Add an else which will be executed after the for loop.\n",
    "for i in range(3,7):\n",
    "    print(i)\n",
    "else:\n",
    "    print(\"Done printing\")"
   ]
  },
  {
   "cell_type": "markdown",
   "metadata": {},
   "source": [
    "If statements will only go through the code if the logical expression is true."
   ]
  },
  {
   "cell_type": "code",
   "execution_count": 7,
   "metadata": {},
   "outputs": [
    {
     "name": "stdout",
     "output_type": "stream",
     "text": [
      "9\n",
      "16\n",
      "25\n",
      "Square root too high\n"
     ]
    }
   ],
   "source": [
    "# This for loop combined with the if/else statements will print every number\n",
    "# in the square_nums list unless its square root is greater than or equal to 6.\n",
    "square_nums = [9, 16, 25, 36]\n",
    "for n in square_nums:\n",
    "    if math.sqrt(n) < 6:\n",
    "        print(n)\n",
    "    else:\n",
    "        print(\"Square root too high\")"
   ]
  },
  {
   "cell_type": "markdown",
   "metadata": {},
   "source": [
    "### Functions\n",
    "We can create functions that take in arguments and return variables or lists. This allows us to call on these functions later and is useful when we want to repeat code with different data sets. This example creates a function that adds 7 to each number in a list. When calling this function later, we must give a list of numbers as the argument."
   ]
  },
  {
   "cell_type": "code",
   "execution_count": 8,
   "metadata": {},
   "outputs": [
    {
     "name": "stdout",
     "output_type": "stream",
     "text": [
      "[2, 3, 5, 7, 11]\n",
      "[9, 10, 12, 14, 18]\n"
     ]
    }
   ],
   "source": [
    "# Define the function name and argument.\n",
    "def add_seven(list_of_nums):\n",
    "    \n",
    "    # Create a new list which the function will return\n",
    "    new_nums = []\n",
    "    \n",
    "    # Use a for loop to add 7 to each number in the list_of_nums and append \n",
    "    # it to new_nums using the append() function.\n",
    "    for i in range(len(list_of_nums)):\n",
    "        new_nums.append(list_of_nums[i] + 7)\n",
    "        \n",
    "    # Return the new list\n",
    "    return new_nums\n",
    "\n",
    "# Call our function\n",
    "prime_numbers = [2, 3, 5, 7, 11]\n",
    "print(prime_numbers)\n",
    "new_numbers = add_seven(prime_numbers)\n",
    "print(new_numbers)"
   ]
  },
  {
   "cell_type": "markdown",
   "metadata": {},
   "source": [
    "### Plotting with matplotlib\n",
    "Matplotlib is the module used in this class to plot. Below are some important functions used to plot or manipulate plots."
   ]
  },
  {
   "cell_type": "code",
   "execution_count": 14,
   "metadata": {},
   "outputs": [],
   "source": [
    "# First, remember that we must import the module that has the functions needed.\n",
    "import matplotlib.pyplot\n",
    "# Next, for jupyter notebooks, we have to use an iPython Magic function (indicated with the %)\n",
    "# to make the matplotlib imagers appear in the notebook so that we can see them.\n",
    "# Note that this function is specific to the jupyter notebook and only needs to be executed \n",
    "# once per notebook\n",
    "%matplotlib inline"
   ]
  },
  {
   "cell_type": "code",
   "execution_count": 15,
   "metadata": {},
   "outputs": [
    {
     "data": {
      "text/plain": [
       "Text(0.5, 1.0, 'Plot Testing')"
      ]
     },
     "execution_count": 15,
     "metadata": {},
     "output_type": "execute_result"
    },
    {
     "data": {
      "image/png": "[encoded data removed]",
      "text/plain": [
       "<Figure size 432x288 with 1 Axes>"
      ]
     },
     "metadata": {
      "needs_background": "light"
     },
     "output_type": "display_data"
    }
   ],
   "source": [
    "# Create a new figure with figure 1.\n",
    "matplotlib.pyplot.figure(1)\n",
    "\n",
    "x = [1, 2, 3]\n",
    "y = [4, 5, 6]\n",
    "# Plot x and y in the color red. Try changing the color. Use the documentation\n",
    "# to see which colors you can use.\n",
    "matplotlib.pyplot.plot(x, y, 'red')\n",
    "\n",
    "# Label the axes and title\n",
    "matplotlib.pyplot.xlabel('x')\n",
    "matplotlib.pyplot.ylabel('y')\n",
    "matplotlib.pyplot.title('Plot Testing')"
   ]
  },
  {
   "cell_type": "markdown",
   "metadata": {},
   "source": [
    "## Section 3: Plotting Data"
   ]
  },
  {
   "cell_type": "markdown",
   "metadata": {},
   "source": [
    "Now, we will plot data in Python using a real-world dataset.\n",
    "### Import\n",
    "Start by importing some modules."
   ]
  },
  {
   "cell_type": "code",
   "execution_count": 38,
   "metadata": {
    "scrolled": false
   },
   "outputs": [],
   "source": [
    "# import pandas, which will let us read in .xlsx (Excel) files as data frames\n",
    "import pandas as pd\n",
    "\n",
    "# Module to plot.\n",
    "# The \"as plt\" names the module plt, making it quicker to use later.\n",
    "# To call functions from this module, we can type plt.function() rather\n",
    "# than matplotlib.pyplot.function().\n",
    "import matplotlib.pyplot as plt\n",
    "\n",
    "# Module with many functions in manipulating arrays and lists.\n",
    "import numpy as np\n",
    "\n",
    "# Module with statistics functions.\n",
    "import statistics as stats\n",
    "\n",
    "# Module with normal gaussian curve function.\n",
    "# Since we don't need the entire scipy.stats library, we add \"import norm\" \n",
    "# to only import the norm function.\n",
    "from scipy.stats import norm"
   ]
  },
  {
   "cell_type": "markdown",
   "metadata": {},
   "source": [
    "### Extract Data\n",
    "Next, parse through the .xlsx data. We can do this using the [pandas](https://pandas.pydata.org/) library.\n",
    "\n",
    "For convenience, make sure the .xlsx file is saved to the same folder as your jupyter notebook."
   ]
  },
  {
   "cell_type": "code",
   "execution_count": 26,
   "metadata": {},
   "outputs": [
    {
     "data": {
      "text/html": [
       "<div>\n",
       "<style scoped>\n",
       "    .dataframe tbody tr th:only-of-type {\n",
       "        vertical-align: middle;\n",
       "    }\n",
       "\n",
       "    .dataframe tbody tr th {\n",
       "        vertical-align: top;\n",
       "    }\n",
       "\n",
       "    .dataframe thead th {\n",
       "        text-align: right;\n",
       "    }\n",
       "</style>\n",
       "<table border=\"1\" class=\"dataframe\">\n",
       "  <thead>\n",
       "    <tr style=\"text-align: right;\">\n",
       "      <th></th>\n",
       "      <th>date of peak</th>\n",
       "      <th>water year</th>\n",
       "      <th>peak value (cfs)</th>\n",
       "      <th>gage_ht (feet)</th>\n",
       "    </tr>\n",
       "  </thead>\n",
       "  <tbody>\n",
       "    <tr>\n",
       "      <td>0</td>\n",
       "      <td>1928-10-09</td>\n",
       "      <td>1929</td>\n",
       "      <td>18800</td>\n",
       "      <td>10.55</td>\n",
       "    </tr>\n",
       "    <tr>\n",
       "      <td>1</td>\n",
       "      <td>1930-02-05</td>\n",
       "      <td>1930</td>\n",
       "      <td>15800</td>\n",
       "      <td>10.44</td>\n",
       "    </tr>\n",
       "    <tr>\n",
       "      <td>2</td>\n",
       "      <td>1931-01-28</td>\n",
       "      <td>1931</td>\n",
       "      <td>35100</td>\n",
       "      <td>14.08</td>\n",
       "    </tr>\n",
       "    <tr>\n",
       "      <td>3</td>\n",
       "      <td>1932-02-26</td>\n",
       "      <td>1932</td>\n",
       "      <td>83300</td>\n",
       "      <td>20.70</td>\n",
       "    </tr>\n",
       "    <tr>\n",
       "      <td>4</td>\n",
       "      <td>1932-11-13</td>\n",
       "      <td>1933</td>\n",
       "      <td>72500</td>\n",
       "      <td>19.50</td>\n",
       "    </tr>\n",
       "    <tr>\n",
       "      <td>...</td>\n",
       "      <td>...</td>\n",
       "      <td>...</td>\n",
       "      <td>...</td>\n",
       "      <td>...</td>\n",
       "    </tr>\n",
       "    <tr>\n",
       "      <td>76</td>\n",
       "      <td>2005-01-18</td>\n",
       "      <td>2005</td>\n",
       "      <td>74600</td>\n",
       "      <td>19.55</td>\n",
       "    </tr>\n",
       "    <tr>\n",
       "      <td>77</td>\n",
       "      <td>2005-12-24</td>\n",
       "      <td>2006</td>\n",
       "      <td>33800</td>\n",
       "      <td>14.27</td>\n",
       "    </tr>\n",
       "    <tr>\n",
       "      <td>78</td>\n",
       "      <td>2006-11-06</td>\n",
       "      <td>2007</td>\n",
       "      <td>129000</td>\n",
       "      <td>24.51</td>\n",
       "    </tr>\n",
       "    <tr>\n",
       "      <td>79</td>\n",
       "      <td>2007-12-03</td>\n",
       "      <td>2008</td>\n",
       "      <td>51100</td>\n",
       "      <td>16.79</td>\n",
       "    </tr>\n",
       "    <tr>\n",
       "      <td>80</td>\n",
       "      <td>2009-01-08</td>\n",
       "      <td>2009</td>\n",
       "      <td>74000</td>\n",
       "      <td>19.48</td>\n",
       "    </tr>\n",
       "  </tbody>\n",
       "</table>\n",
       "<p>81 rows × 4 columns</p>\n",
       "</div>"
      ],
      "text/plain": [
       "   date of peak  water year  peak value (cfs)  gage_ht (feet)\n",
       "0    1928-10-09        1929             18800           10.55\n",
       "1    1930-02-05        1930             15800           10.44\n",
       "2    1931-01-28        1931             35100           14.08\n",
       "3    1932-02-26        1932             83300           20.70\n",
       "4    1932-11-13        1933             72500           19.50\n",
       "..          ...         ...               ...             ...\n",
       "76   2005-01-18        2005             74600           19.55\n",
       "77   2005-12-24        2006             33800           14.27\n",
       "78   2006-11-06        2007            129000           24.51\n",
       "79   2007-12-03        2008             51100           16.79\n",
       "80   2009-01-08        2009             74000           19.48\n",
       "\n",
       "[81 rows x 4 columns]"
      ]
     },
     "execution_count": 26,
     "metadata": {},
     "output_type": "execute_result"
    }
   ],
   "source": [
    "# Define the location of the .xlsx file. These are the names of the files, \n",
    "# uploaded to the same folder as your Jupyter Notebook.\n",
    "Skykomish_data_file = 'Skykomish_peak_flow_12134500_skykomish_river_near_gold_bar.xlsx'\n",
    "\n",
    "# Use pandas.read_excel() function to open this file.\n",
    "# This stores the data in a \"Data Frame\" and we can use it to plot the data later.\n",
    "Skykomish_data = pd.read_excel(Skykomish_data_file)\n",
    "\n",
    "# Now we can see the dataset we loaded:\n",
    "Skykomish_data"
   ]
  },
  {
   "cell_type": "markdown",
   "metadata": {},
   "source": [
    "We can access a column of this data frame by using the header name within brackets as follows:"
   ]
  },
  {
   "cell_type": "code",
   "execution_count": 24,
   "metadata": {},
   "outputs": [
    {
     "data": {
      "text/plain": [
       "0      18800\n",
       "1      15800\n",
       "2      35100\n",
       "3      83300\n",
       "4      72500\n",
       "       ...  \n",
       "76     74600\n",
       "77     33800\n",
       "78    129000\n",
       "79     51100\n",
       "80     74000\n",
       "Name: peak value (cfs), Length: 81, dtype: int64"
      ]
     },
     "execution_count": 24,
     "metadata": {},
     "output_type": "execute_result"
    }
   ],
   "source": [
    "# look at the column named 'peak value (cfs)'\n",
    "Skykomish_data['peak value (cfs)']"
   ]
  },
  {
   "cell_type": "markdown",
   "metadata": {},
   "source": [
    "### Plot Timeseries\n",
    "Next, create a timeseries of the data using the arrays created above and the matplotlib module."
   ]
  },
  {
   "cell_type": "code",
   "execution_count": 28,
   "metadata": {},
   "outputs": [
    {
     "data": {
      "text/plain": [
       "Text(0.5, 1.0, '(Fig. 1) Skykomish River Peak Flows')"
      ]
     },
     "execution_count": 28,
     "metadata": {},
     "output_type": "execute_result"
    },
    {
     "data": {
      "image/png": "[encoded data removed]",
      "text/plain": [
       "<Figure size 432x288 with 1 Axes>"
      ]
     },
     "metadata": {
      "needs_background": "light"
     },
     "output_type": "display_data"
    }
   ],
   "source": [
    "# Plot data by calling functions from the matplotlib module, which we named plt.\n",
    "\n",
    "# Create a new figure.\n",
    "plt.figure(1)\n",
    "\n",
    "# Use the plot() function to plot the year on the x-axis, peak flow values on\n",
    "# the y-axis with an open circle representing each peak flow value.\n",
    "plt.plot(Skykomish_data['water year'], Skykomish_data['peak value (cfs)'], '-^', markerfacecolor='red')\n",
    "\n",
    "# Label the axes and title.\n",
    "plt.xlabel('Water Years')\n",
    "plt.ylabel('Peak Flows (cfs)')\n",
    "plt.title('(Fig. 1) Skykomish River Peak Flows')\n",
    "\n"
   ]
  },
  {
   "cell_type": "code",
   "execution_count": 29,
   "metadata": {},
   "outputs": [
    {
     "data": {
      "image/png": "[encoded data removed]",
      "text/plain": [
       "<Figure size 432x288 with 1 Axes>"
      ]
     },
     "metadata": {
      "needs_background": "light"
     },
     "output_type": "display_data"
    }
   ],
   "source": [
    "# But this plot doesn't look as pretty as we might like\n",
    "# Try repeating the above with two more lines\n",
    "# Create a new figure.\n",
    "plt.figure(2)\n",
    "\n",
    "# Use the plot() function to plot the year on the x-axis, peak flow values on\n",
    "# the y-axis with an open circle representing each peak flow value.\n",
    "plt.plot(Skykomish_data['water year'], Skykomish_data['peak value (cfs)'], '-^', markerfacecolor='black')\n",
    "\n",
    "# Label the axes and title.\n",
    "plt.xlabel('Water Years')\n",
    "plt.ylabel('Peak Flows (cfs)')\n",
    "plt.title('(Fig. 2) Skykomish River Peak Flows')\n",
    "\n",
    "# Remove scientific notation from x-axis labels.\n",
    "plt.ticklabel_format(axis='x', useOffset=False)\n",
    "\n",
    "# Add scientific notation to y-axis labels.\n",
    "plt.ticklabel_format(axis='y', style='sci', scilimits=(0,0))"
   ]
  },
  {
   "cell_type": "markdown",
   "metadata": {},
   "source": [
    "### Histogram\n",
    "Next, make a histogram of the peak flow values."
   ]
  },
  {
   "cell_type": "code",
   "execution_count": 30,
   "metadata": {},
   "outputs": [
    {
     "data": {
      "image/png": "[encoded data removed]",
      "text/plain": [
       "<Figure size 432x288 with 1 Axes>"
      ]
     },
     "metadata": {
      "needs_background": "light"
     },
     "output_type": "display_data"
    }
   ],
   "source": [
    "# Define the number of bins for the histogram. Try changing this number and \n",
    "# running this cell.\n",
    "nbins = 50\n",
    "\n",
    "# Create a new figure.\n",
    "plt.figure(3)\n",
    "\n",
    "# Use the hist() function from matplotlib to plot the histogram with lines \n",
    "# in between each bin.\n",
    "plt.hist(Skykomish_data['peak value (cfs)'], nbins, ec=\"black\")\n",
    "\n",
    "# Label.\n",
    "plt.title('(Fig. 3) Skykomish River Peak Flow Histogram')\n",
    "plt.xlabel('Peak Flow (cfs)')\n",
    "plt.ylabel('Number of Occurences')\n",
    "plt.ticklabel_format(axis='x', style='sci', scilimits=(0,0))"
   ]
  },
  {
   "cell_type": "markdown",
   "metadata": {},
   "source": [
    "### Quantile Plot\n",
    "Next, plot the data as a quantile plot with Cunnane plotting position.\n",
    "Note that Cunnane Quantile Mapping is discussed in Lecture 2 of CEE465/CEWA565.  You can also find background on this in Section 2.1.3 (on p. 22-24) of Helsel and Hirsch."
   ]
  },
  {
   "cell_type": "code",
   "execution_count": 31,
   "metadata": {},
   "outputs": [
    {
     "data": {
      "image/png": "[encoded data removed]",
      "text/plain": [
       "<Figure size 432x288 with 1 Axes>"
      ]
     },
     "metadata": {
      "needs_background": "light"
     },
     "output_type": "display_data"
    }
   ],
   "source": [
    "# Create a function that will return objects needed to create a quantile plot.\n",
    "# The function will take an array of data as an argument and return the data\n",
    "# as an ordered array and the plotting position associated with each data point.\n",
    "def quantile_fn(data):\n",
    "\n",
    "    # Create an array of ordered data using the sorted() function.\n",
    "    ordered_data = sorted(data)\n",
    "    \n",
    "    # Define the length of the ordered_data array using the len() function.\n",
    "    n = len(ordered_data)\n",
    "\n",
    "    # Assign a rank and plotting position to each data point using a for loop.\n",
    "    rank = []\n",
    "    plotting_position = []\n",
    "    for i in range(n):\n",
    "        rank.append(i+1)\n",
    "        # Using the Cunnane plotting position.\n",
    "        plotting_position.append((rank[i]-.4)/(n+.2))\n",
    "        \n",
    "    return ordered_data, plotting_position\n",
    "# Note, this last line specifies which data will be output when the function is called\n",
    "\n",
    "# Call quantile function defined above with our data.\n",
    "# Note that in our usage here, Skykomish_Data is the ordered_data and Skykomish_Plotting \n",
    "# is the plotting_position (this refers to the order in which these two are listed)\n",
    "Skykomish_Data, Skykomish_Plotting = quantile_fn(Skykomish_data['peak value (cfs)'])\n",
    "    \n",
    "# Plot the ordered data by plotting position.\n",
    "plt.figure(4)\n",
    "plt.plot(Skykomish_Data, Skykomish_Plotting)\n",
    "plt.xlabel('Peak Flows (cfs)')\n",
    "plt.ylabel('Cumulative Frequency')\n",
    "plt.title('(Fig. 4) Skykomish River Peak Flow Quantile Plot')\n",
    "plt.ticklabel_format(axis='x', style='sci', scilimits=(0,0))"
   ]
  },
  {
   "cell_type": "markdown",
   "metadata": {},
   "source": [
    "### Probability Distribution Function\n",
    "Next, plot the data as a PDF."
   ]
  },
  {
   "cell_type": "code",
   "execution_count": 32,
   "metadata": {},
   "outputs": [],
   "source": [
    "# Create a function for the PDF.\n",
    "# The function will take in the array of data (data) and number of bins (nbins) used for the histogram.\n",
    "def pdf_fn(data, nbins):\n",
    "    \n",
    "    # Using the hist() function and the function arguments, find:\n",
    "    # counts (an array): the number of data points for each bin\n",
    "    # bins (an array): the location of the left side of each bin and the right side of the last bin\n",
    "    # patches (a list): the style properties of the histogram. We will not use these, but hist() returns them.\n",
    "    counts, bins, patches = plt.hist(data, nbins)\n",
    "    \n",
    "    # Close the histogram using the close() function so that it does not display.\n",
    "    plt.close()\n",
    "    \n",
    "    # Create an array with the location of the center of each bin.\n",
    "    width = bins[2]-bins[1]\n",
    "    centers = bins + width/2\n",
    "    # plt.hist() returns the right side of the last bin, which we don't want in the centers array.\n",
    "    # To get rid of this, first convert the centers array to a list.\n",
    "    centers_list = np.array(centers).tolist()\n",
    "    # Then, remove the last number from the list.\n",
    "    centers_list.remove(centers_list[len(centers_list)-1])\n",
    "      # why is there a -1 at the end?  Is that because the counters start at 0 in python?  \n",
    "\n",
    "    # Calculate the area of each bin.\n",
    "    areas = [c * width for c in counts]\n",
    "    # Calculate the total area using the sum() function.\n",
    "    area_under_curve = sum(areas)\n",
    "\n",
    "    # Calculate the fraction of area vs counts for each bin.\n",
    "    fractions = [c / area_under_curve for c in counts]\n",
    "    \n",
    "    # Return a list of the location of the center of each bin and the fraction of area vs counts for each bin.\n",
    "    return centers_list, fractions\n",
    "\n"
   ]
  },
  {
   "cell_type": "code",
   "execution_count": 33,
   "metadata": {},
   "outputs": [
    {
     "data": {
      "image/png": "[encoded data removed]",
      "text/plain": [
       "<Figure size 432x288 with 1 Axes>"
      ]
     },
     "metadata": {
      "needs_background": "light"
     },
     "output_type": "display_data"
    }
   ],
   "source": [
    "# Call PDF function with our data.\n",
    "# Play with changing the number of bins here -- which looks optimal for making a smooth PDF?\n",
    "nbins = 20\n",
    "centers_list, fractions = pdf_fn(Skykomish_data['peak value (cfs)'], nbins)\n",
    "\n",
    "# Plot PDF.\n",
    "plt.figure(5)\n",
    "plt.plot(centers_list, fractions)\n",
    "plt.xlabel('Peak Flows (cfs)')\n",
    "plt.ylabel('Fraction per Bin Width')\n",
    "plt.title('(Fig. 5) Sauk River Peak Flow PDF')\n",
    "plt.ticklabel_format(axis='x', style='sci', scilimits=(0,0))\n",
    "plt.ticklabel_format(axis='y', style='sci', scilimits=(0,0))"
   ]
  },
  {
   "cell_type": "markdown",
   "metadata": {},
   "source": [
    "### Normal Cumulative Distribution Function\n",
    "Next, create a normally-distributed CDF using the calculated mean and standard deviation of the data and compare to the quantile plot."
   ]
  },
  {
   "cell_type": "code",
   "execution_count": 34,
   "metadata": {},
   "outputs": [
    {
     "data": {
      "text/plain": [
       "<matplotlib.legend.Legend at 0x2bd1b9753c8>"
      ]
     },
     "execution_count": 34,
     "metadata": {},
     "output_type": "execute_result"
    },
    {
     "data": {
      "image/png": "[encoded data removed]",
      "text/plain": [
       "<Figure size 432x288 with 1 Axes>"
      ]
     },
     "metadata": {
      "needs_background": "light"
     },
     "output_type": "display_data"
    }
   ],
   "source": [
    "# Create a function to return the values needed to plot a normally-distributed CDF.\n",
    "# The function takes an array of data as an argument and returns an array of \n",
    "# evenly spaced intervals for the range of the data, the mean, and standard \n",
    "# deviation using the stats and numpy modules.\n",
    "def make_normal_dist_cdf(data):\n",
    "    \n",
    "    # Calculate the mean and standard deviation of the data using the \n",
    "    # statistics module.\n",
    "    mean = stats.mean(data)\n",
    "    sd = stats.stdev(data)\n",
    "    \n",
    "    # Find the range of the data.\n",
    "    n = len(data)\n",
    "    num = int(data[n-1]-data[0])\n",
    "    \n",
    "    return np.linspace(data[0], data[n-1], num), mean, sd\n",
    "\n",
    "# Call CDF function for data.\n",
    "ordered_Skykomish, mean, sd = make_normal_dist_cdf(Skykomish_Data)\n",
    "\n",
    "# Plot.\n",
    "plt.figure(6)\n",
    "plt.plot(Skykomish_Data, Skykomish_Plotting, label=\"Quantile Plot\")\n",
    "plt.plot(norm.cdf(ordered_Skykomish, mean, sd), color='orange', label='Normal Distribution CDF Plot')\n",
    "plt.xlabel('Peak Flows (cfs)')\n",
    "plt.ylabel('Cumulative Frequency')\n",
    "plt.title('(Fig. 6) Skykomish River Peak Flow Quantile Plot and Normal-Distribution CDF')\n",
    "plt.ticklabel_format(axis='x', style='sci', scilimits=(0,0))\n",
    "plt.legend(loc=\"best\")"
   ]
  },
  {
   "cell_type": "markdown",
   "metadata": {},
   "source": [
    "### Take a moment to look at your graph above.  What did you just plot?  What is it telling you?"
   ]
  },
  {
   "cell_type": "markdown",
   "metadata": {},
   "source": [
    "### Boxplot\n",
    "Create a boxplot of the data.  Look at Section 2.1.4 of Helsel and Hirsh (page 24-26).  What are the standard components of a box plot?  Note that different plotting programs may plot the components differently.  Look at the details of the boxplot function in the matplotlib library (https://matplotlib.org/3.1.1/api/_as_gen/matplotlib.pyplot.boxplot.html) and identify what each line and circle on the boxplot graph you create here represents.  Look at the Boxplot Demo and note that you can customize your boxplots to show exactly what you want.  You are always responsible for knowing the details of what you are plotting and why."
   ]
  },
  {
   "cell_type": "code",
   "execution_count": 37,
   "metadata": {},
   "outputs": [
    {
     "data": {
      "image/png": "[encoded data removed]",
      "text/plain": [
       "<Figure size 432x288 with 1 Axes>"
      ]
     },
     "metadata": {
      "needs_background": "light"
     },
     "output_type": "display_data"
    }
   ],
   "source": [
    "# Use the boxplot() function.\n",
    "plt.figure(7)\n",
    "plt.boxplot(Skykomish_data['peak value (cfs)'])\n",
    "plt.ylabel('Peak Flow (cfs)')\n",
    "plt.title('(Fig. 7) Skykomish River Peak Flows')\n",
    "plt.ticklabel_format(axis='y', style='sci', scilimits=(0,0))"
   ]
  },
  {
   "cell_type": "code",
   "execution_count": null,
   "metadata": {
    "collapsed": true
   },
   "outputs": [],
   "source": []
  }
 ],
 "metadata": {
  "kernelspec": {
   "display_name": "Python 3",
   "language": "python",
   "name": "python3"
  },
  "language_info": {
   "codemirror_mode": {
    "name": "ipython",
    "version": 3
   },
   "file_extension": ".py",
   "mimetype": "text/x-python",
   "name": "python",
   "nbconvert_exporter": "python",
   "pygments_lexer": "ipython3",
   "version": "3.6.7"
  }
 },
 "nbformat": 4,
 "nbformat_minor": 2
}
