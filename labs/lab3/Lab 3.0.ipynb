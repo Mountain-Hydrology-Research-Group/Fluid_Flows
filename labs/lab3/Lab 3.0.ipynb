{
 "cells": [
  {
   "cell_type": "markdown",
   "metadata": {},
   "source": [
    "# Lab 3.0: More Hypothesis Testing\n",
    "## Type II Error and Power\n",
    "What is the type II error and power for your test on the mean from Lab 2.0, assuming that both the true means have increased by 30% and the pooled standard deviation has increased by a factor of 1.1?\n",
    "\n",
    "That is, assume that the true mean is 1.3 times the early mean, and that the true pooled standard deviation is 1.1 times sigma prime (our test estimate of pooled estimator for the two observed data sets)."
   ]
  },
  {
   "cell_type": "code",
   "execution_count": 1,
   "metadata": {},
   "outputs": [],
   "source": [
    "# Import modules\n",
    "\n",
    "import xlrd\n",
    "import pandas as pd\n",
    "import matplotlib.pyplot as plt\n",
    "import math\n",
    "import scipy.stats as st\n",
    "import statistics as stats\n",
    "import numpy as np\n",
    "from scipy.interpolate import interp1d"
   ]
  },
  {
   "cell_type": "code",
   "execution_count": 2,
   "metadata": {},
   "outputs": [
    {
     "data": {
      "text/html": [
       "<div>\n",
       "<style scoped>\n",
       "    .dataframe tbody tr th:only-of-type {\n",
       "        vertical-align: middle;\n",
       "    }\n",
       "\n",
       "    .dataframe tbody tr th {\n",
       "        vertical-align: top;\n",
       "    }\n",
       "\n",
       "    .dataframe thead th {\n",
       "        text-align: right;\n",
       "    }\n",
       "</style>\n",
       "<table border=\"1\" class=\"dataframe\">\n",
       "  <thead>\n",
       "    <tr style=\"text-align: right;\">\n",
       "      <th></th>\n",
       "      <th>date of peak</th>\n",
       "      <th>water year</th>\n",
       "      <th>peak value (cfs)</th>\n",
       "      <th>gage_ht (feet)</th>\n",
       "    </tr>\n",
       "  </thead>\n",
       "  <tbody>\n",
       "    <tr>\n",
       "      <td>0</td>\n",
       "      <td>1928-10-09</td>\n",
       "      <td>1929</td>\n",
       "      <td>18800</td>\n",
       "      <td>10.55</td>\n",
       "    </tr>\n",
       "    <tr>\n",
       "      <td>1</td>\n",
       "      <td>1930-02-05</td>\n",
       "      <td>1930</td>\n",
       "      <td>15800</td>\n",
       "      <td>10.44</td>\n",
       "    </tr>\n",
       "    <tr>\n",
       "      <td>2</td>\n",
       "      <td>1931-01-28</td>\n",
       "      <td>1931</td>\n",
       "      <td>35100</td>\n",
       "      <td>14.08</td>\n",
       "    </tr>\n",
       "    <tr>\n",
       "      <td>3</td>\n",
       "      <td>1932-02-26</td>\n",
       "      <td>1932</td>\n",
       "      <td>83300</td>\n",
       "      <td>20.70</td>\n",
       "    </tr>\n",
       "    <tr>\n",
       "      <td>4</td>\n",
       "      <td>1932-11-13</td>\n",
       "      <td>1933</td>\n",
       "      <td>72500</td>\n",
       "      <td>19.50</td>\n",
       "    </tr>\n",
       "    <tr>\n",
       "      <td>...</td>\n",
       "      <td>...</td>\n",
       "      <td>...</td>\n",
       "      <td>...</td>\n",
       "      <td>...</td>\n",
       "    </tr>\n",
       "    <tr>\n",
       "      <td>76</td>\n",
       "      <td>2005-01-18</td>\n",
       "      <td>2005</td>\n",
       "      <td>74600</td>\n",
       "      <td>19.55</td>\n",
       "    </tr>\n",
       "    <tr>\n",
       "      <td>77</td>\n",
       "      <td>2005-12-24</td>\n",
       "      <td>2006</td>\n",
       "      <td>33800</td>\n",
       "      <td>14.27</td>\n",
       "    </tr>\n",
       "    <tr>\n",
       "      <td>78</td>\n",
       "      <td>2006-11-06</td>\n",
       "      <td>2007</td>\n",
       "      <td>129000</td>\n",
       "      <td>24.51</td>\n",
       "    </tr>\n",
       "    <tr>\n",
       "      <td>79</td>\n",
       "      <td>2007-12-03</td>\n",
       "      <td>2008</td>\n",
       "      <td>51100</td>\n",
       "      <td>16.79</td>\n",
       "    </tr>\n",
       "    <tr>\n",
       "      <td>80</td>\n",
       "      <td>2009-01-08</td>\n",
       "      <td>2009</td>\n",
       "      <td>74000</td>\n",
       "      <td>19.48</td>\n",
       "    </tr>\n",
       "  </tbody>\n",
       "</table>\n",
       "<p>81 rows × 4 columns</p>\n",
       "</div>"
      ],
      "text/plain": [
       "   date of peak  water year  peak value (cfs)  gage_ht (feet)\n",
       "0    1928-10-09        1929             18800           10.55\n",
       "1    1930-02-05        1930             15800           10.44\n",
       "2    1931-01-28        1931             35100           14.08\n",
       "3    1932-02-26        1932             83300           20.70\n",
       "4    1932-11-13        1933             72500           19.50\n",
       "..          ...         ...               ...             ...\n",
       "76   2005-01-18        2005             74600           19.55\n",
       "77   2005-12-24        2006             33800           14.27\n",
       "78   2006-11-06        2007            129000           24.51\n",
       "79   2007-12-03        2008             51100           16.79\n",
       "80   2009-01-08        2009             74000           19.48\n",
       "\n",
       "[81 rows x 4 columns]"
      ]
     },
     "execution_count": 2,
     "metadata": {},
     "output_type": "execute_result"
    }
   ],
   "source": [
    "# Read the excel file\n",
    "Skykomish_data_file = 'Skykomish_peak_flow_12134500_skykomish_river_near_gold_bar.xlsx'\n",
    "Skykomish_data = pd.read_excel(Skykomish_data_file)\n",
    "\n",
    "# Preview our data\n",
    "Skykomish_data"
   ]
  },
  {
   "cell_type": "code",
   "execution_count": 3,
   "metadata": {},
   "outputs": [],
   "source": [
    "# Divide the data into the early period (before and including 1975) and late period (after 1975). \n",
    "# And select only the 'peak value (cfs)' column for each time period\n",
    "\n",
    "early = Skykomish_data['peak value (cfs)'][ Skykomish_data['water year'] <= 1975 ] \n",
    "late = Skykomish_data['peak value (cfs)'][ Skykomish_data['water year'] > 1975 ] "
   ]
  },
  {
   "cell_type": "code",
   "execution_count": 4,
   "metadata": {},
   "outputs": [],
   "source": [
    "# Calculate type II error and power\n",
    "\n",
    "n = len(early)\n",
    "m = len(late)\n",
    "\n",
    "conf = .95\n",
    "\n",
    "z_alpha = st.norm.ppf(conf)\n",
    "\n",
    "mean1 = stats.mean(early)\n",
    "mean2 = stats.mean(late)\n",
    "\n",
    "sd1 = stats.stdev(early)\n",
    "sd2 = stats.stdev(late)\n",
    "\n",
    "pooled_sd = math.sqrt(sd1**2/n + sd2**2/m)\n",
    "\n",
    "delta_star = .3 * mean1\n",
    "\n",
    "sigma_star = 1.1 * pooled_sd\n",
    "\n",
    "z_eff = (z_alpha*pooled_sd - delta_star) / sigma_star\n",
    "\n",
    "beta = st.norm.cdf(z_eff)\n",
    "\n",
    "power = 1 - beta"
   ]
  },
  {
   "cell_type": "code",
   "execution_count": 5,
   "metadata": {},
   "outputs": [
    {
     "data": {
      "text/plain": [
       "<matplotlib.legend.Legend at 0x23a01b74400>"
      ]
     },
     "execution_count": 5,
     "metadata": {},
     "output_type": "execute_result"
    },
    {
     "data": {
      "image/png": "[encoded data removed]",
      "text/plain": [
       "<Figure size 432x288 with 1 Axes>"
      ]
     },
     "metadata": {
      "needs_background": "light"
     },
     "output_type": "display_data"
    }
   ],
   "source": [
    "# Make a plot\n",
    "\n",
    "plt.figure(1)\n",
    "\n",
    "x = np.linspace(-4, 4, num=160)\n",
    "x = [i * pooled_sd for i in x]\n",
    "    \n",
    "plt.plot(x, st.norm.pdf(x, 0, pooled_sd), label='Null PDF: (x-bar - y-bar) = 0')\n",
    "plt.plot(x, st.norm.pdf(x, delta_star, sigma_star), color='red', label=r'True PDF: (x-bar - y-bar) = $\\delta$')\n",
    "plt.axvline(z_alpha*pooled_sd, color='black', label=r'Z$_\\alpha$')\n",
    "plt.title('1C - Type II Error')\n",
    "plt.xlabel('(x-bar - y-bar) [cfs]')\n",
    "plt.ylabel('PDF')\n",
    "plt.ylim(0, 9e-5)\n",
    "plt.ticklabel_format(axis='x', style='sci', scilimits=(0,0))\n",
    "plt.text(-20000, 8e-5, r'Z$_eff$ = ' + str(round(z_eff,2)))\n",
    "plt.text(-20000, 7e-5, 'beta = ' + str(round(beta,2)))\n",
    "plt.legend(loc='best')"
   ]
  },
  {
   "cell_type": "markdown",
   "metadata": {},
   "source": [
    "## Wilcoxan Rank Sum Test\n",
    "Test the significance of the change in the mean between the two sample periods using the two-sample Wilcoxan Rank Sum test. How different is your conclusion from the one we just did (i.e. compare P for the two tests)? Only consider the case where the null hypothesis is no change."
   ]
  },
  {
   "cell_type": "code",
   "execution_count": 6,
   "metadata": {},
   "outputs": [],
   "source": [
    "# Use scipy.stats.wilcoxon()\n",
    "\n",
    "w, p_w = st.ranksums(early, late)\n",
    "\n",
    "z_w = st.norm.ppf(1-p_w)"
   ]
  },
  {
   "cell_type": "code",
   "execution_count": 7,
   "metadata": {},
   "outputs": [
    {
     "data": {
      "text/plain": [
       "<matplotlib.legend.Legend at 0x23a02bd02b0>"
      ]
     },
     "execution_count": 7,
     "metadata": {},
     "output_type": "execute_result"
    },
    {
     "data": {
      "image/png": "[encoded data removed]",
      "text/plain": [
       "<Figure size 432x288 with 1 Axes>"
      ]
     },
     "metadata": {
      "needs_background": "light"
     },
     "output_type": "display_data"
    }
   ],
   "source": [
    "# Plot\n",
    "\n",
    "plt.figure(1)\n",
    "\n",
    "mean_w = np.linspace(-4, 4, num=160)\n",
    "\n",
    "plt.plot(mean_w, st.norm.pdf(mean_w), label='Null PDF: (x-bar - y-bar)')\n",
    "plt.axvline(z_alpha, color='black', label=r'Z$_\\alpha$')\n",
    "plt.axvline(z_w, color='red', label=r'Z$_w$')\n",
    "plt.title('1D - Wilcoxan Rank Sum Test')\n",
    "plt.xlabel('Z')\n",
    "plt.ylabel('PDF')\n",
    "plt.ylim(0, max(st.norm.pdf(mean_w)))\n",
    "plt.legend(loc='best')"
   ]
  },
  {
   "cell_type": "markdown",
   "metadata": {},
   "source": [
    "## Change in the Standard Deviation\n",
    "Test for statistical significance of a change in the standard deviation.\n",
    "Even though it is not strictly true, assume for the moment that the\n",
    "sample data are derived from a normally distributed population. (We\n",
    "will follow up on the importance of this assumption in problem 2.) Use a\n",
    "single sample test (with rejection region based on the Chi Squared\n",
    "distribution). Assume that the sample standard deviation from the\n",
    "1929-1974 data is close to the true population standard deviation of the\n",
    "earlier data set. Test that the more recent sample is different from this.\n",
    "\n",
    "Use ${t} = \\frac{(n-1)s^2}{\\sigma^2}$ with n-1 degrees of freedom."
   ]
  },
  {
   "cell_type": "code",
   "execution_count": null,
   "metadata": {},
   "outputs": [],
   "source": []
  },
  {
   "cell_type": "markdown",
   "metadata": {},
   "source": [
    "## Monte Carlo Tests\n",
    "Use random number generation to see if the central value theorem and z-statistics really work.\n",
    "\n",
    "Look at the following code and modify it for this problem.\n",
    "\n",
    "1. Start with the empirical CDFs for the two periods that you already made in\n",
    "your homework.\n",
    "2. Extrapolate linearly to 0 and 1 (see code provided).\n",
    "3. Generate 500 samples, each with n = 35, assuming the CDF from the pre\n",
    "1975.\n",
    "4. For each of the 500 samples, calculate the sample mean and standard\n",
    "deviation.\n",
    "5. Plot histograms and empirical CDFs for the mean and the standard deviation\n",
    "sets."
   ]
  },
  {
   "cell_type": "code",
   "execution_count": 8,
   "metadata": {},
   "outputs": [
    {
     "data": {
      "text/plain": [
       "(0, 150000)"
      ]
     },
     "execution_count": 8,
     "metadata": {},
     "output_type": "execute_result"
    },
    {
     "data": {
      "image/png": "[encoded data removed]",
      "text/plain": [
       "<Figure size 432x288 with 1 Axes>"
      ]
     },
     "metadata": {
      "needs_background": "light"
     },
     "output_type": "display_data"
    }
   ],
   "source": [
    "# Start with empirical CDFs\n",
    "\n",
    "# The function takes an array of data as an argument and returns the data\n",
    "# as an ordered array and the plotting position associated with each data point.\n",
    "def quantile_fn(data):\n",
    "\n",
    "    ordered_data = sorted(data)\n",
    "    n = len(ordered_data)\n",
    "\n",
    "    rank = []\n",
    "    plotting_position = []\n",
    "    for i in range(n):\n",
    "        rank.append(i+1)\n",
    "        # Using the Cunnane plotting position.\n",
    "        plotting_position.append((rank[i]-.4)/(n+.2))\n",
    "        \n",
    "    return ordered_data, plotting_position\n",
    "\n",
    "data = Skykomish_data['peak value (cfs)']\n",
    "\n",
    "x_ordered, x_plotting = quantile_fn(data)\n",
    "x_CDF = [1 - i for i in x_plotting]\n",
    "\n",
    "x_ordered.reverse()\n",
    "\n",
    "# Extrapolate linearly to 0 and 1\n",
    "xsort_first = x_ordered[0] + (x_ordered[0]-x_ordered[1]) * (1-x_CDF[0])/(x_CDF[0]-x_CDF[1])\n",
    "xsort_last = x_ordered[len(x_ordered)-1] - (x_ordered[len(x_ordered)-1] - x_ordered[len(x_ordered)-2]) * x_CDF[len(x_CDF)-1]/(x_CDF[len(x_CDF)-1]- x_CDF[len(x_CDF)-2])\n",
    "xsort = [xsort_first]\n",
    "xsort.extend(x_ordered)\n",
    "xsort.append(xsort_last)\n",
    "\n",
    "x_CDF.insert(0, 1)\n",
    "x_CDF.append(0)\n",
    "                                    \n",
    "# Plot\n",
    "plt.figure()\n",
    "plt.plot(x_CDF, xsort, color='black')\n",
    "plt.ylabel('peak annual discharge (cfs)')\n",
    "plt.xlabel('cumulative probability (or probability of non-exceedance)')\n",
    "plt.title('Sauk Peak Flows, 1929-2009')\n",
    "plt.ticklabel_format(axis='y', style='sci', scilimits=(0,0))\n",
    "plt.ylim(0, 150000)"
   ]
  },
  {
   "cell_type": "code",
   "execution_count": 9,
   "metadata": {},
   "outputs": [
    {
     "name": "stdout",
     "output_type": "stream",
     "text": [
      "500\n"
     ]
    }
   ],
   "source": [
    "# Generate 500 random samples with n=35 assuming CDF from early period\n",
    "\n",
    "q = np.random.random_sample((500, 35))\n",
    "\n",
    "# Map to the CDF of our data, this says to look up the x_CDF value and see what actual \n",
    "# streamflow value (xsort) corresponds to it\n",
    "f = interp1d(x_CDF, xsort) # create a function\n",
    "Q = f(q) # evaluate the function with random values q\n",
    "   \n",
    "\n",
    "# It's a good idea to check that you have the right axis here.  \n",
    "# We want 100 means of 20 numbers each, but if we look at the wrong axis of the matrix, \n",
    "# we could get 20 means of 100 numbers each.\n",
    "Q_mean = np.mean(Q, axis=1)\n",
    "\n",
    "#here is my printing to check\n",
    "print(len(Q_mean))\n",
    "\n",
    "Q_sd = np.std(Q, axis=1)\n",
    "\n",
    "## We can even plot our randomly generated CDFs if you uncomment this section\n",
    "#f, ax = plt.subplots(4,5,figsize=(10,7))\n",
    "#s=0\n",
    "#for r in range(0,4):\n",
    "#    for c in range(0,5):\n",
    "#        ax[r,c].plot(x_CDF, xsort, '-r') # plot the underlying CDF\n",
    "#        ax[r,c].plot(q[:,s],Q[:,s],'.k') # plot the random points we've mapped to the CDF\n",
    "#        s+=1\n",
    "#f.tight_layout() "
   ]
  },
  {
   "cell_type": "code",
   "execution_count": 10,
   "metadata": {},
   "outputs": [
    {
     "data": {
      "image/png": "[encoded data removed]",
      "text/plain": [
       "<Figure size 432x288 with 2 Axes>"
      ]
     },
     "metadata": {
      "needs_background": "light"
     },
     "output_type": "display_data"
    }
   ],
   "source": [
    "# Plot histograms for mean and sd\n",
    "nbins = 10\n",
    "\n",
    "fig, axs = plt.subplots(2, 1)\n",
    "fig.subplots_adjust(hspace=1)\n",
    "\n",
    "axs[0].hist(Q_mean, nbins, ec=\"black\")\n",
    "axs[0].set_title('Means')\n",
    "axs[0].set_xlabel('(a) Peak Flow (cfs)')\n",
    "axs[0].set_ylabel('Count')\n",
    "axs[0].ticklabel_format(axis='x', style='sci', scilimits=(0,0))\n",
    "\n",
    "axs[1].hist(Q_sd, nbins, ec=\"black\")\n",
    "axs[1].set_title('(b) Standard Deviations')\n",
    "axs[1].set_xlabel('Peak Flow (cfs)')\n",
    "axs[1].set_ylabel('Count')\n",
    "axs[1].ticklabel_format(axis='x', style='sci', scilimits=(0,0))"
   ]
  },
  {
   "cell_type": "code",
   "execution_count": 11,
   "metadata": {},
   "outputs": [
    {
     "data": {
      "text/plain": [
       "(0, 1)"
      ]
     },
     "execution_count": 11,
     "metadata": {},
     "output_type": "execute_result"
    },
    {
     "data": {
      "image/png": "[encoded data removed]",
      "text/plain": [
       "<Figure size 432x288 with 2 Axes>"
      ]
     },
     "metadata": {
      "needs_background": "light"
     },
     "output_type": "display_data"
    }
   ],
   "source": [
    "# Plot CDFs for mean and sd\n",
    "\n",
    "mean_ordered, mean_plotting = quantile_fn(Q_mean)\n",
    "mean_CDF = [1 - i for i in mean_plotting]\n",
    "\n",
    "mean_ordered.reverse()\n",
    "\n",
    "meansort_first = mean_ordered[0] + (mean_ordered[0]-mean_ordered[1]) * (1-mean_CDF[0])/(mean_CDF[0]-mean_CDF[1])\n",
    "meansort_last = mean_ordered[len(mean_ordered)-1] - (mean_ordered[len(mean_ordered)-1] - mean_ordered[len(mean_ordered)-2]) * mean_CDF[len(mean_CDF)-1]/(mean_CDF[len(mean_CDF)-1]- mean_CDF[len(mean_CDF)-2])\n",
    "meansort = [meansort_first]\n",
    "meansort.extend(mean_ordered)\n",
    "meansort.append(meansort_last)\n",
    "\n",
    "mean_CDF.insert(0, 1)\n",
    "mean_CDF.append(0)\n",
    "\n",
    "sd_ordered, sd_plotting = quantile_fn(Q_sd)\n",
    "sd_CDF = [1 - j for j in sd_plotting]\n",
    "\n",
    "sd_ordered.reverse()\n",
    "\n",
    "sdsort_first = sd_ordered[0] + (sd_ordered[0]-sd_ordered[1]) * (1-sd_CDF[0])/(sd_CDF[0]-sd_CDF[1])\n",
    "sdsort_last = sd_ordered[len(sd_ordered)-1] - (sd_ordered[len(sd_ordered)-1] - sd_ordered[len(sd_ordered)-2]) * sd_CDF[len(sd_CDF)-1]/(sd_CDF[len(sd_CDF)-1]- sd_CDF[len(sd_CDF)-2])\n",
    "sdsort = [sdsort_first]\n",
    "sdsort.extend(sd_ordered)\n",
    "sdsort.append(sdsort_last)\n",
    "\n",
    "sd_CDF.insert(0, 1)\n",
    "sd_CDF.append(0)\n",
    "                                    \n",
    "# Plot\n",
    "fig, axs = plt.subplots(2, 1)\n",
    "fig.subplots_adjust(hspace=1)\n",
    "\n",
    "axs[0].plot(meansort, mean_CDF)\n",
    "axs[0].set_xlabel('Mean pre-1975 flood (cfs)')\n",
    "axs[0].set_ylabel('CDF')\n",
    "axs[0].ticklabel_format(axis='x', style='sci', scilimits=(0,0))\n",
    "axs[0].set_xlim(30000, 55000)\n",
    "axs[0].set_ylim(0, 1)\n",
    "\n",
    "axs[1].plot(sdsort, sd_CDF)\n",
    "axs[1].set_xlabel('Standard Deviation pre-1975 flood (cfs)')\n",
    "axs[1].set_ylabel('CDF')\n",
    "axs[1].ticklabel_format(axis='x', style='sci', scilimits=(0,0))\n",
    "axs[1].set_xlim(10000, 30000)\n",
    "axs[1].set_ylim(0,1)"
   ]
  },
  {
   "cell_type": "code",
   "execution_count": null,
   "metadata": {},
   "outputs": [],
   "source": []
  }
 ],
 "metadata": {
  "kernelspec": {
   "display_name": "Python 3",
   "language": "python",
   "name": "python3"
  },
  "language_info": {
   "codemirror_mode": {
    "name": "ipython",
    "version": 3
   },
   "file_extension": ".py",
   "mimetype": "text/x-python",
   "name": "python",
   "nbconvert_exporter": "python",
   "pygments_lexer": "ipython3",
   "version": "3.6.7"
  }
 },
 "nbformat": 4,
 "nbformat_minor": 2
}
